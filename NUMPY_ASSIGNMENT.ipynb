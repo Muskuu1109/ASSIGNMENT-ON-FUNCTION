{
  "nbformat": 4,
  "nbformat_minor": 0,
  "metadata": {
    "colab": {
      "provenance": [],
      "authorship_tag": "ABX9TyOBJ4LrIowv1n1C/f8Wzj3w",
      "include_colab_link": true
    },
    "kernelspec": {
      "name": "python3",
      "display_name": "Python 3"
    },
    "language_info": {
      "name": "python"
    }
  },
  "cells": [
    {
      "cell_type": "markdown",
      "metadata": {
        "id": "view-in-github",
        "colab_type": "text"
      },
      "source": [
        "<a href=\"https://colab.research.google.com/github/Muskuu1109/ASSIGNMENT-ON-FUNCTION/blob/main/NUMPY_ASSIGNMENT.ipynb\" target=\"_parent\"><img src=\"https://colab.research.google.com/assets/colab-badge.svg\" alt=\"Open In Colab\"/></a>"
      ]
    },
    {
      "cell_type": "markdown",
      "source": [
        "***Practical QUESTIONS***"
      ],
      "metadata": {
        "id": "1QkjkIkGdF-n"
      }
    },
    {
      "cell_type": "markdown",
      "source": [
        "**1.Create a 3x3 NumPy array with random integers between 1 and 100. Then, interchange its rows and columns.**"
      ],
      "metadata": {
        "id": "Yej_qGDadUxN"
      }
    },
    {
      "cell_type": "code",
      "source": [
        "import numpy as np\n",
        "\n",
        "# Create a 3x3 array with random integers between 1 and 100\n",
        "array = np.random.randint(1, 101, size=(3, 3))\n",
        "print(\"Original Array:\")\n",
        "print(array)\n",
        "\n",
        "# Swap the first and second rows\n",
        "array[[0, 1]] = array[[1, 0]]\n",
        "print(\"\\nArray after swapping rows:\")\n",
        "print(array)\n",
        "\n",
        "# Swap the first and second columns\n",
        "array[:, [0, 1]] = array[:, [1, 0]]\n",
        "print(\"\\nArray after swapping columns:\")\n",
        "print(array)\n"
      ],
      "metadata": {
        "colab": {
          "base_uri": "https://localhost:8080/"
        },
        "id": "mwTFTYKsfuR_",
        "outputId": "3c6c5b23-51c6-40d3-bbc0-6519d4c3eeca"
      },
      "execution_count": 3,
      "outputs": [
        {
          "output_type": "stream",
          "name": "stdout",
          "text": [
            "Original Array:\n",
            "[[88 71 89]\n",
            " [89 13 59]\n",
            " [66 40 88]]\n",
            "\n",
            "Array after swapping rows:\n",
            "[[89 13 59]\n",
            " [88 71 89]\n",
            " [66 40 88]]\n",
            "\n",
            "Array after swapping columns:\n",
            "[[13 89 59]\n",
            " [71 88 89]\n",
            " [40 66 88]]\n"
          ]
        }
      ]
    },
    {
      "cell_type": "markdown",
      "source": [
        "**2.Generate a 1D NumPy array with 10 elements. Reshape it into a 2x5 array, then into a 5x2 array.**"
      ],
      "metadata": {
        "id": "UgXwiCUqf0cz"
      }
    },
    {
      "cell_type": "code",
      "source": [
        "import numpy as np\n",
        "\n",
        "# Generate a 1D NumPy array with 10 elements\n",
        "array_1d = np.arange(10)\n",
        "print(\"Original 1D Array:\")\n",
        "print(array_1d)\n",
        "\n",
        "# Reshape the 1D array into a 2x5 array\n",
        "array_2x5 = array_1d.reshape(2, 5)\n",
        "print(\"\\nReshaped into 2x5 Array:\")\n",
        "print(array_2x5)\n",
        "\n",
        "# Reshape the 1D array into a 5x2 array\n",
        "array_5x2 = array_1d.reshape(5, 2)\n",
        "print(\"\\nReshaped into 5x2 Array:\")\n",
        "print(array_5x2)\n"
      ],
      "metadata": {
        "colab": {
          "base_uri": "https://localhost:8080/"
        },
        "id": "fyWNEzGrgM2i",
        "outputId": "59c6f88e-b3c1-45c8-e211-3c06d42b67c3"
      },
      "execution_count": 4,
      "outputs": [
        {
          "output_type": "stream",
          "name": "stdout",
          "text": [
            "Original 1D Array:\n",
            "[0 1 2 3 4 5 6 7 8 9]\n",
            "\n",
            "Reshaped into 2x5 Array:\n",
            "[[0 1 2 3 4]\n",
            " [5 6 7 8 9]]\n",
            "\n",
            "Reshaped into 5x2 Array:\n",
            "[[0 1]\n",
            " [2 3]\n",
            " [4 5]\n",
            " [6 7]\n",
            " [8 9]]\n"
          ]
        }
      ]
    },
    {
      "cell_type": "markdown",
      "source": [
        "**3.Create a 4x4 NumPy array with random float values. Add a border of zeros around it, resulting in a 6x6 array.**"
      ],
      "metadata": {
        "id": "UK8_5eKwgtxp"
      }
    },
    {
      "cell_type": "code",
      "source": [
        "import numpy as np\n",
        "\n",
        "# Create a 4x4 array with random float values\n",
        "array_4x4 = np.random.random((4, 4))\n",
        "print(\"Original 4x4 Array:\")\n",
        "print(array_4x4)\n",
        "\n",
        "# Add a border of zeros around the 4x4 array\n",
        "array_6x6 = np.pad(array_4x4, pad_width=1, mode='constant', constant_values=0)\n",
        "print(\"\\n6x6 Array with Zero Border:\")\n",
        "print(array_6x6)\n"
      ],
      "metadata": {
        "colab": {
          "base_uri": "https://localhost:8080/"
        },
        "id": "IsJGGymagnKl",
        "outputId": "71365c25-2ea0-4f8e-d991-7797e44a46cf"
      },
      "execution_count": 5,
      "outputs": [
        {
          "output_type": "stream",
          "name": "stdout",
          "text": [
            "Original 4x4 Array:\n",
            "[[0.47997717 0.3927848  0.83607876 0.33739616]\n",
            " [0.64817187 0.36824154 0.95715516 0.14035078]\n",
            " [0.87008726 0.47360805 0.80091075 0.52047748]\n",
            " [0.67887953 0.72063265 0.58201979 0.53737323]]\n",
            "\n",
            "6x6 Array with Zero Border:\n",
            "[[0.         0.         0.         0.         0.         0.        ]\n",
            " [0.         0.47997717 0.3927848  0.83607876 0.33739616 0.        ]\n",
            " [0.         0.64817187 0.36824154 0.95715516 0.14035078 0.        ]\n",
            " [0.         0.87008726 0.47360805 0.80091075 0.52047748 0.        ]\n",
            " [0.         0.67887953 0.72063265 0.58201979 0.53737323 0.        ]\n",
            " [0.         0.         0.         0.         0.         0.        ]]\n"
          ]
        }
      ]
    },
    {
      "cell_type": "markdown",
      "source": [
        "**4.Using NumPy, create an array of integers from 10 to 60 with a step of 5.**"
      ],
      "metadata": {
        "id": "sFAERn0NhLUs"
      }
    },
    {
      "cell_type": "code",
      "source": [
        "import numpy as np\n",
        "\n",
        "# Create an array of integers from 10 to 60 with a step of 5\n",
        "array = np.arange(10, 61, 5)\n",
        "print(array)\n"
      ],
      "metadata": {
        "colab": {
          "base_uri": "https://localhost:8080/"
        },
        "id": "iXWUWTORhhwm",
        "outputId": "e0069516-0c2b-4e8a-cdfc-aa67b035ca46"
      },
      "execution_count": 6,
      "outputs": [
        {
          "output_type": "stream",
          "name": "stdout",
          "text": [
            "[10 15 20 25 30 35 40 45 50 55 60]\n"
          ]
        }
      ]
    },
    {
      "cell_type": "markdown",
      "source": [
        "**5.Create a NumPy array of strings ['python', 'numpy', 'pandas']. Apply different case transformations\n",
        "(uppercase, lowercase, title case, etc.) to each element.**"
      ],
      "metadata": {
        "id": "JbjkxljJhwaP"
      }
    },
    {
      "cell_type": "code",
      "source": [
        "import numpy as np\n",
        "\n",
        "# Create a NumPy array of strings\n",
        "array = np.array(['pwskills', 'data', 'analaytics'])\n",
        "print(\"Original Array:\")\n",
        "print(array)\n",
        "\n",
        "# Apply uppercase transformation\n",
        "uppercase_array = np.char.upper(array)\n",
        "print(\"\\nUppercase Array:\")\n",
        "print(uppercase_array)\n",
        "\n",
        "# Apply lowercase transformation (although the original array is already in lowercase)\n",
        "lowercase_array = np.char.lower(array)\n",
        "print(\"\\nLowercase Array:\")\n",
        "print(lowercase_array)\n",
        "\n",
        "# Apply title case transformation\n",
        "title_case_array = np.char.title(array)\n",
        "print(\"\\nTitle Case Array:\")\n",
        "print(title_case_array)\n",
        "\n",
        "# Apply capitalize transformation\n",
        "capitalize_array = np.char.capitalize(array)\n",
        "print(\"\\nCapitalize Array:\")\n",
        "print(capitalize_array)\n"
      ],
      "metadata": {
        "colab": {
          "base_uri": "https://localhost:8080/"
        },
        "id": "fvjgY6u_iAYF",
        "outputId": "7a15ec63-940b-46e4-a78f-b7ef460d3ee6"
      },
      "execution_count": 8,
      "outputs": [
        {
          "output_type": "stream",
          "name": "stdout",
          "text": [
            "Original Array:\n",
            "['pwskills' 'data' 'analaytics']\n",
            "\n",
            "Uppercase Array:\n",
            "['PWSKILLS' 'DATA' 'ANALAYTICS']\n",
            "\n",
            "Lowercase Array:\n",
            "['pwskills' 'data' 'analaytics']\n",
            "\n",
            "Title Case Array:\n",
            "['Pwskills' 'Data' 'Analaytics']\n",
            "\n",
            "Capitalize Array:\n",
            "['Pwskills' 'Data' 'Analaytics']\n"
          ]
        }
      ]
    },
    {
      "cell_type": "markdown",
      "source": [
        "**6. Generate a NumPy array of words. Insert a space between each character of every word in the array.**"
      ],
      "metadata": {
        "id": "sxlwoA99ioV-"
      }
    },
    {
      "cell_type": "code",
      "source": [
        "import numpy as np\n",
        "\n",
        "# Create a NumPy array of words\n",
        "words_array = np.array(['course', 'numpy', 'assignment'])\n",
        "print(\"Original Array:\")\n",
        "print(words_array)\n",
        "\n",
        "# Insert a space between each character of every word\n",
        "spaced_words_array = np.char.join(' ', words_array)\n",
        "print(\"\\nArray with Spaces Between Characters:\")\n",
        "print(spaced_words_array)\n"
      ],
      "metadata": {
        "colab": {
          "base_uri": "https://localhost:8080/"
        },
        "id": "-GnKnrDyi2qU",
        "outputId": "a54ae562-fdb3-474f-a524-5cc23c425e1a"
      },
      "execution_count": 9,
      "outputs": [
        {
          "output_type": "stream",
          "name": "stdout",
          "text": [
            "Original Array:\n",
            "['course' 'numpy' 'assignment']\n",
            "\n",
            "Array with Spaces Between Characters:\n",
            "['c o u r s e' 'n u m p y' 'a s s i g n m e n t']\n"
          ]
        }
      ]
    },
    {
      "cell_type": "markdown",
      "source": [
        "**7.Create two 2D NumPy arrays and perform element-wise addition, subtraction, multiplication, and division.**"
      ],
      "metadata": {
        "id": "o9WHyyZQjqe9"
      }
    },
    {
      "cell_type": "code",
      "source": [
        "import numpy as np\n",
        "\n",
        "array1 = np.array([[3, 2, 7], [4, 8, 9]])\n",
        "array2 = np.array([[4,5,1], [2,5,6]])\n",
        "\n",
        "print(\"Array 1:\")\n",
        "print(array1)\n",
        "print(\"\\nArray 2:\")\n",
        "print(array2)\n",
        "\n",
        "# Element-wise addition\n",
        "addition = np.add(array1, array2)\n",
        "print(\"\\nElement-wise Addition:\")\n",
        "print(addition)\n",
        "\n",
        "# Element-wise subtraction\n",
        "subtraction = np.subtract(array1, array2)\n",
        "print(\"\\nElement-wise Subtraction:\")\n",
        "print(subtraction)\n",
        "\n",
        "# Element-wise multiplication\n",
        "multiplication = np.multiply(array1, array2)\n",
        "print(\"\\nElement-wise Multiplication:\")\n",
        "print(multiplication)\n",
        "\n",
        "# Element-wise division\n",
        "division = np.divide(array1, array2)\n",
        "print(\"\\nElement-wise Division:\")\n",
        "print(division)\n",
        "\n",
        "\n",
        "\n"
      ],
      "metadata": {
        "colab": {
          "base_uri": "https://localhost:8080/"
        },
        "id": "GSfyB9osjz-l",
        "outputId": "880a7e32-b4d2-4d8b-9e70-3d1920ea61de"
      },
      "execution_count": 14,
      "outputs": [
        {
          "output_type": "stream",
          "name": "stdout",
          "text": [
            "Array 1:\n",
            "[[3 2 7]\n",
            " [4 8 9]]\n",
            "\n",
            "Array 2:\n",
            "[[4 5 1]\n",
            " [2 5 6]]\n",
            "\n",
            "Element-wise Addition:\n",
            "[[ 7  7  8]\n",
            " [ 6 13 15]]\n",
            "\n",
            "Element-wise Subtraction:\n",
            "[[-1 -3  6]\n",
            " [ 2  3  3]]\n",
            "\n",
            "Element-wise Multiplication:\n",
            "[[12 10  7]\n",
            " [ 8 40 54]]\n",
            "\n",
            "Element-wise Division:\n",
            "[[0.75 0.4  7.  ]\n",
            " [2.   1.6  1.5 ]]\n"
          ]
        }
      ]
    },
    {
      "cell_type": "markdown",
      "source": [
        "**8.Use NumPy to create a 5x5 identity matrix, then extract its diagonal elements.**"
      ],
      "metadata": {
        "id": "D-b1Q97tl51I"
      }
    },
    {
      "cell_type": "code",
      "source": [
        "import numpy as np\n",
        "\n",
        "# Create a 5x5 identity matrix\n",
        "identity_matrix = np.eye(5)\n",
        "print(\"5x5 Identity Matrix:\")\n",
        "print(identity_matrix)\n",
        "\n",
        "# Extract the diagonal elements\n",
        "diagonal_elements = np.diag(identity_matrix)\n",
        "print(\"\\nDiagonal Elements:\")\n",
        "print(diagonal_elements)\n"
      ],
      "metadata": {
        "colab": {
          "base_uri": "https://localhost:8080/"
        },
        "id": "fP2048TUmZGR",
        "outputId": "1cdd079a-b060-4117-eac8-537e31958c4e"
      },
      "execution_count": 15,
      "outputs": [
        {
          "output_type": "stream",
          "name": "stdout",
          "text": [
            "5x5 Identity Matrix:\n",
            "[[1. 0. 0. 0. 0.]\n",
            " [0. 1. 0. 0. 0.]\n",
            " [0. 0. 1. 0. 0.]\n",
            " [0. 0. 0. 1. 0.]\n",
            " [0. 0. 0. 0. 1.]]\n",
            "\n",
            "Diagonal Elements:\n",
            "[1. 1. 1. 1. 1.]\n"
          ]
        }
      ]
    },
    {
      "cell_type": "markdown",
      "source": [
        "**9.Generate a NumPy array of 100 random integers between 0 and 1000. Find and display all prime numbers in\n",
        "this array.**"
      ],
      "metadata": {
        "id": "NwLFbG9Smkyf"
      }
    },
    {
      "cell_type": "code",
      "source": [
        "import numpy as np\n",
        "\n",
        "# Generate a NumPy array of 100 random integers between 0 and 1000\n",
        "random_array = np.random.randint(0, 1000, size=100)\n",
        "print(\"Random Array:\")\n",
        "print(random_array)\n",
        "\n",
        "def is_prime(n):\n",
        "    \"\"\"Check if a number is a prime number.\"\"\"\n",
        "    if n <= 1:\n",
        "        return False\n",
        "    if n <= 3:\n",
        "        return True\n",
        "    if n % 2 == 0 or n % 3 == 0:\n",
        "        return False\n",
        "    i = 5\n",
        "    while i * i <= n:\n",
        "        if n % i == 0 or n % (i + 2) == 0:\n",
        "            return False\n",
        "        i += 6\n",
        "    return True\n",
        "\n",
        "# Find all prime numbers in the array\n",
        "primes = np.array([x for x in random_array if is_prime(x)])\n",
        "print(\"\\nPrime Numbers in Array:\")\n",
        "print(primes)\n"
      ],
      "metadata": {
        "colab": {
          "base_uri": "https://localhost:8080/"
        },
        "id": "y0BjTNbXmufL",
        "outputId": "fd2d8dba-8ac4-434c-de88-521c594aa2e6"
      },
      "execution_count": 16,
      "outputs": [
        {
          "output_type": "stream",
          "name": "stdout",
          "text": [
            "Random Array:\n",
            "[544 543 714 244 151 675 510 459 882 183  28 802 128 128 932  53 901 550\n",
            " 488 756 273 335 388 617  42 442 543 888 257 321 999 937  57 291 870 119\n",
            " 779 430  82  91 896 398 611 565 908 633 938  84 203 324 774 964  47 639\n",
            " 131 972 868 180 846 143 660 227 954 791 719 909 373 853 560 305 581 169\n",
            " 675 448  95 197 606 256 881 690 292 930 816 861 387 610 554 973 368 999\n",
            " 917 201 383 512 906 370 555 954 383  23]\n",
            "\n",
            "Prime Numbers in Array:\n",
            "[151  53 617 257 937  47 131 227 719 373 853 197 881 383 383  23]\n"
          ]
        }
      ]
    },
    {
      "cell_type": "markdown",
      "source": [
        "**10.Create a NumPy array representing daily temperatures for a month. Calculate and display the weekly\n",
        "averages.**"
      ],
      "metadata": {
        "id": "rbqlWmwnnSYn"
      }
    },
    {
      "cell_type": "code",
      "source": [
        "import numpy as np\n",
        "\n",
        "#Generate daily temperatures for a month (30 days)\n",
        "np.random.seed(0)  # For reproducibility\n",
        "daily_temperatures = np.random.uniform(low=0, high=35, size=30)  # Temperatures between 0 and 35 degrees\n",
        "print(\"Daily Temperatures for the Month:\")\n",
        "print(daily_temperatures)\n",
        "\n",
        "#Reshape the array to represent weeks (assuming 30 days = 4 weeks + 2 extra days)\n",
        "#Reshape to 5 weeks of 6 days\n",
        "reshaped_temperatures = daily_temperatures.reshape(5, 6) #Change the dimensions of the reshaped array to 5x6\n",
        "print(\"\\nReshaped Temperatures (5 weeks x 6 days):\")\n",
        "print(reshaped_temperatures)\n",
        "\n",
        "#Calculate weekly averages\n",
        "weekly_averages = np.mean(reshaped_temperatures, axis=1)\n",
        "print(\"\\nWeekly Averages:\")\n",
        "print(weekly_averages)\n"
      ],
      "metadata": {
        "colab": {
          "base_uri": "https://localhost:8080/"
        },
        "id": "6SlPIG9wncLt",
        "outputId": "72675b03-5482-4194-ff9a-a19efdde8617"
      },
      "execution_count": 19,
      "outputs": [
        {
          "output_type": "stream",
          "name": "stdout",
          "text": [
            "Daily Temperatures for the Month:\n",
            "[19.20847264 25.03162782 21.09671816 19.0709114  14.82791798 22.60629396\n",
            " 15.31555239 31.21205503 33.72819662 13.42045316 27.71037633 18.51132219\n",
            " 19.88155964 32.39588234  2.48626204  3.04952549  0.70764391 29.14169459\n",
            " 27.23548628 30.45042519 34.25164198 27.97054975 16.15177768 27.31852117\n",
            "  4.13960491 22.39723575  5.01736506 33.0634121  18.26469126 14.5131679 ]\n",
            "\n",
            "Reshaped Temperatures (5 weeks x 6 days):\n",
            "[[19.20847264 25.03162782 21.09671816 19.0709114  14.82791798 22.60629396]\n",
            " [15.31555239 31.21205503 33.72819662 13.42045316 27.71037633 18.51132219]\n",
            " [19.88155964 32.39588234  2.48626204  3.04952549  0.70764391 29.14169459]\n",
            " [27.23548628 30.45042519 34.25164198 27.97054975 16.15177768 27.31852117]\n",
            " [ 4.13960491 22.39723575  5.01736506 33.0634121  18.26469126 14.5131679 ]]\n",
            "\n",
            "Weekly Averages:\n",
            "[20.30699033 23.31632595 14.610428   27.22973367 16.23257949]\n"
          ]
        }
      ]
    }
  ]
}
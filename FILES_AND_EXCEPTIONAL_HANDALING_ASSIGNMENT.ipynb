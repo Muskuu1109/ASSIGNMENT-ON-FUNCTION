{
  "nbformat": 4,
  "nbformat_minor": 0,
  "metadata": {
    "colab": {
      "provenance": [],
      "authorship_tag": "ABX9TyOEd2e3B6j+3pZXLNeQl5X6",
      "include_colab_link": true
    },
    "kernelspec": {
      "name": "python3",
      "display_name": "Python 3"
    },
    "language_info": {
      "name": "python"
    }
  },
  "cells": [
    {
      "cell_type": "markdown",
      "metadata": {
        "id": "view-in-github",
        "colab_type": "text"
      },
      "source": [
        "<a href=\"https://colab.research.google.com/github/Muskuu1109/ASSIGNMENT-ON-FUNCTION/blob/main/FILES_AND_EXCEPTIONAL_HANDALING_ASSIGNMENT.ipynb\" target=\"_parent\"><img src=\"https://colab.research.google.com/assets/colab-badge.svg\" alt=\"Open In Colab\"/></a>"
      ]
    },
    {
      "cell_type": "markdown",
      "source": [
        "**1. Discuss the scenarios where multithreading is preferable to multiprocessing and scenarios where\n",
        "multiprocessing is a better choice.**"
      ],
      "metadata": {
        "id": "Hf3_nxaxMcTG"
      }
    },
    {
      "cell_type": "markdown",
      "source": [
        "When deciding between multithreading and multiprocessing, it's important to consider the nature of the task at hand and the underlying architecture of your system. Here’s a breakdown of scenarios where each approach is preferable:\n",
        "\n",
        "### When Multithreading is Preferable\n",
        "\n",
        "1. **I/O-Bound Tasks**:\n",
        "   **Scenario**: Tasks that spend a lot of time waiting for input/output operations, such as reading from disk, network communication, or user input.\n",
        "   Reason: Multithreading is effective here because while one thread is waiting for I/O operations to complete, other threads can continue executing. This allows for better utilization of the CPU, which might otherwise be idle during these wait times.\n",
        "\n",
        "2. **Shared Memory Needs**:\n",
        "   - **Scenario**: When threads need to frequently share data and communicate with each other.\n",
        "   Reason: Threads within the same process share the same memory space, making it easier and faster to share data compared to processes, which require inter-process communication (IPC) mechanisms that can be slower and more complex.\n",
        "\n",
        "3. **Low Overhead and Lightweight Operations**:\n",
        "   - **Scenario**: Tasks that do not require a lot of computation but need to handle many tasks simultaneously.\n",
        "   Reason: Threads have less overhead compared to processes. Creating and managing threads is generally cheaper in terms of memory and CPU resources.\n",
        "\n",
        "4. **Concurrency with GIL (Global Interpreter Lock) Concerns**:\n",
        "   - **Scenario**: In languages like Python, where the Global Interpreter Lock (GIL) restricts execution of multiple threads in the same process.\n",
        "   Reason: For I/O-bound tasks, the GIL does not severely impact performance, so multithreading can still be effective.\n",
        "\n",
        "### When Multiprocessing is Preferable\n",
        "\n",
        "1. **CPU-Bound Tasks**:\n",
        "   - **Scenario**: Tasks that require heavy computation and can benefit from parallel execution.\n",
        "   Reason: Multiprocessing allows for true parallelism by using multiple CPU cores. Unlike threads, processes are not affected by the GIL and can run simultaneously on different cores, significantly improving performance for compute-intensive tasks.\n",
        "\n",
        "2. **Isolation and Fault Tolerance**:\n",
        "   - **Scenario**: When tasks need to be isolated from each other to avoid issues with one task affecting others or to handle crashes gracefully.\n",
        "   - **Reason**: Processes have separate memory spaces, so a failure in one process does not directly impact others. This isolation helps in building more robust and fault-tolerant systems.\n",
        "\n",
        "3. **Avoiding GIL Limitations**:\n",
        "   - **Scenario**: In Python, for instance, the GIL prevents multiple threads from executing Python bytecodes simultaneously.\n",
        "   Reasom: For CPU-bound operations, multiprocessing can bypass the GIL's limitations by using separate processes, each with its own Python interpreter and memory space.\n",
        "\n",
        "4. **Heavyweight Operations with Significant Memory Requirements**:\n",
        "   - **Scenario**: Tasks that require substantial amounts of memory or need to maintain large data structures.\n",
        "   Reason: Multiprocessing can handle these tasks better as each process has its own memory space. Threads share the same memory space, which can lead to contention and issues if not managed carefully.\n",
        "\n",
        "### Summary\n",
        "\n",
        "- **Multithreading** is best for I/O-bound tasks and scenarios requiring lightweight concurrency with shared memory.\n",
        "- **Multiprocessing** is ideal for CPU-bound tasks, tasks needing isolation and fault tolerance, and scenarios where GIL is a limiting factor.\n",
        "\n"
      ],
      "metadata": {
        "id": "-Hsk2T2pNLKk"
      }
    },
    {
      "cell_type": "markdown",
      "source": [
        "**2. Describe what a process pool is and how it helps in managing multiple processes efficiently.**"
      ],
      "metadata": {
        "id": "xw4bMXstO6HF"
      }
    },
    {
      "cell_type": "markdown",
      "source": [
        "A **process pool** is a collection of pre-allocated worker processes designed to handle multiple tasks concurrently. It allows you to manage a fixed number of processes that can be reused to perform tasks, rather than creating and destroying processes dynamically. This approach helps in managing multiple processes efficiently in several ways:\n",
        "\n",
        "### Key Features of a Process Pool\n",
        "\n",
        "1. **Pre-allocation of Processes**:\n",
        "   A process pool creates a set number of worker processes at startup. These processes are kept alive and are ready to handle tasks as they are submitted.\n",
        "\n",
        "2. **Task Scheduling**:\n",
        "   Tasks are distributed among the available worker processes. The pool handles the scheduling and distribution of tasks, ensuring that each worker process gets a job when it is available.\n",
        "\n",
        "3. **Reuse of Processes**:\n",
        "   Instead of creating a new process for each task, which can be expensive in terms of time and resources, the pool reuses existing processes. This reduces overhead and improves performance.\n",
        "\n",
        "4. **Efficient Resource Management**:\n",
        "   By managing a fixed number of processes, a process pool prevents the system from being overwhelmed by creating too many processes. It helps in controlling resource usage and avoiding issues related to excessive context switching and process creation overhead.\n",
        "\n",
        "5. **Load Balancing**:\n",
        "   The pool can balance the load across its worker processes, distributing tasks efficiently and ensuring that no single process is overburdened.\n",
        "\n",
        "6. **Task Completion Handling**:\n",
        "   The pool can handle the completion of tasks, collecting results from worker processes and handling errors, making it easier to manage task outputs and exceptions.\n",
        "\n",
        "### How a Process Pool Helps in Managing Multiple Processes Efficiently\n",
        "\n",
        "1. **Reduced Overhead**:\n",
        "   Creating and destroying processes can be costly in terms of time and system resources. A process pool mitigates this overhead by reusing processes. This is particularly advantageous for scenarios where many short-lived tasks need to be handled.\n",
        "\n",
        "2. **Controlled Resource Usage**:\n",
        "   By limiting the number of concurrent processes, a process pool ensures that the system does not become overloaded. It prevents issues like excessive memory consumption and CPU contention that can arise from too many simultaneous processes.\n",
        "\n",
        "3. **Improved Performance**:\n",
        "   Process pools can enhance performance by reducing the time spent on process creation and destruction. Worker processes are already initialized and ready to perform tasks, leading to faster task execution and reduced latency.\n",
        "\n",
        "4. **Simplified Management**:\n",
        "   Using a process pool simplifies the management of multiple processes. It abstracts the complexity of creating, managing, and destroying processes, providing a higher-level interface for task management.\n",
        "\n",
        "5. **Better Scalability**:\n",
        "   A process pool allows for scalable solutions by adjusting the number of worker processes according to the workload and available system resources. This flexibility helps in adapting to varying demand.\n",
        "\n",
        "6. **Error Handling and Result Collection**:\n",
        "   Process pools often come with built-in mechanisms for error handling and collecting results from worker processes. This makes it easier to handle task outcomes and ensure that errors are managed properly.\n",
        "\n",
        "### Example Use Cases\n",
        "\n",
        "- **Web Servers**: Handling multiple incoming requests concurrently by using a process pool to manage worker processes that handle each request.\n",
        "- **Data Processing**: Performing parallel data processing tasks where each task is independent and can be handled by different worker processes.\n",
        "- **Scientific Computing**: Distributing computation-heavy tasks across multiple processes to leverage parallelism and speed up calculations.\n",
        "\n",
        "In summary, a process pool is a powerful tool for managing multiple processes efficiently by pre-allocating and reusing processes, reducing overhead, controlling resource usage, and simplifying task management."
      ],
      "metadata": {
        "id": "sObqd6K2PXis"
      }
    },
    {
      "cell_type": "markdown",
      "source": [
        "**3. Explain what multiprocessing is and why it is used in Python programs.**\n",
        "\n",
        "\n",
        "**Multiprocessing** is a programming paradigm that involves executing multiple processes concurrently. Each process runs independently and has its own memory space, which allows for true parallelism. This is particularly useful for tasks that can be broken down into independent units of work that can be performed simultaneously.\n",
        "\n",
        "### Key Concepts of Multiprocessing\n",
        "\n",
        "1. **Processes**:\n",
        "   - A process is an independent unit of execution with its own memory space. Unlike threads, which share the same memory space within a process, processes do not share memory, reducing the risk of conflicts and making them more suitable for certain types of tasks.\n",
        "\n",
        "2. **Parallel Execution**:\n",
        "   - Multiprocessing allows for parallel execution of tasks, meaning that multiple processes can run on different CPU cores simultaneously. This can significantly speed up computation-heavy tasks that benefit from parallelism.\n",
        "\n",
        "3. **Isolation**:\n",
        "   - Since each process has its own memory space, processes are isolated from each other. This isolation helps in managing faults and crashes, as one process’s failure does not directly affect others.\n",
        "\n",
        "4. **Inter-Process Communication (IPC)**:\n",
        "   - Processes in a multiprocessing environment can communicate with each other through mechanisms such as queues, pipes, or shared memory. These IPC methods are essential for coordinating tasks and sharing data between processes.\n",
        "\n",
        "### Why Multiprocessing is Used in Python Programs\n",
        "\n",
        "1. **Bypassing the Global Interpreter Lock (GIL)**:\n",
        "   - Python’s Global Interpreter Lock (GIL) is a mutex that protects access to Python objects, preventing multiple native threads from executing Python bytecodes simultaneously. This can be a bottleneck for CPU-bound tasks in multithreaded programs. Multiprocessing, on the other hand, uses separate processes, each with its own Python interpreter and memory space, thereby avoiding the GIL and enabling true parallelism.\n",
        "\n",
        "2. **Improving Performance for CPU-Bound Tasks**:\n",
        "   - For tasks that require significant computation, multiprocessing can leverage multiple CPU cores to perform parallel processing. This improves performance and reduces the time required to complete these tasks by distributing the workload across multiple processes.\n",
        "\n",
        "3. **Fault Tolerance and Robustness**:\n",
        "   - Processes are isolated from each other, so a crash or error in one process does not affect others. This isolation helps in building more robust and fault-tolerant applications where each process can operate independently.\n",
        "\n",
        "4. **Handling Heavy Computations**:\n",
        "   - Multiprocessing is suitable for applications that involve heavy computations, such as scientific calculations, data processing, and simulations. By using multiple processes, these applications can perform tasks concurrently, reducing overall execution time.\n",
        "\n",
        "5. **Scaling Applications**:\n",
        "   - Multiprocessing helps in scaling applications to handle larger workloads by utilizing the full potential of multi-core processors. This is particularly useful in high-performance computing environments where tasks need to be executed concurrently.\n",
        "\n",
        "6. **Efficient Resource Utilization**:\n",
        "   - By distributing tasks across multiple processes, a multiprocessing approach can make better use of available system resources, such as CPU cores and memory. This can lead to more efficient processing and better utilization of hardware capabilities.\n",
        "\n",
        "### Python’s Multiprocessing Module\n",
        "\n",
        "Python provides the `multiprocessing` module to facilitate the creation and management of processes. Key components of the `multiprocessing` module include:\n",
        "\n",
        "- **Process Class**: Used to create and manage individual processes.\n",
        "- **Pool Class**: Provides a pool of worker processes to which tasks can be submitted for concurrent execution. It simplifies task distribution and result collection.\n",
        "- **Queue Class**: Allows processes to communicate with each other by passing messages and data.\n",
        "- **Pipe Class**: Provides a way for processes to communicate directly using a pipe.\n",
        "- **Manager Class**: Offers shared data structures and synchronization primitives that can be used by multiple processes.\n",
        "\n"
      ],
      "metadata": {
        "id": "EgILaFkCPxhE"
      }
    },
    {
      "cell_type": "code",
      "source": [
        "#example\n",
        "\n",
        "from multiprocessing import Pool\n",
        "\n",
        "def square(x):\n",
        "    return x * x\n",
        "\n",
        "if __name__ == '__main__':\n",
        "    numbers = [1, 2, 3, 4, 5]\n",
        "    with Pool(processes=4) as pool:\n",
        "        results = pool.map(square, numbers)\n",
        "    print(results)\n"
      ],
      "metadata": {
        "colab": {
          "base_uri": "https://localhost:8080/"
        },
        "id": "D-tInrz4Quc7",
        "outputId": "d8941105-3c83-4362-a956-8f8bf961f738"
      },
      "execution_count": 15,
      "outputs": [
        {
          "output_type": "stream",
          "name": "stdout",
          "text": [
            "[1, 4, 9, 16, 25]\n"
          ]
        }
      ]
    },
    {
      "cell_type": "markdown",
      "source": [
        "**4. Write a Python program using multithreading where one thread adds numbers to a list, and another\n",
        "thread removes numbers from the list. Implement a mechanism to avoid race conditions using\n",
        "threading.Lock.**"
      ],
      "metadata": {
        "id": "DybiIaoRQ7qh"
      }
    },
    {
      "cell_type": "code",
      "source": [
        "import threading\n",
        "import time\n",
        "\n",
        "# Shared resources\n",
        "shared_list = []\n",
        "lock = threading.Lock()\n",
        "\n",
        "# Function for adding numbers to the list\n",
        "def add_numbers():\n",
        "    for i in range(10):\n",
        "        time.sleep(1)  # Simulate some work being done\n",
        "        with lock:\n",
        "            shared_list.append(i)\n",
        "            print(f'Added {i} to list: {shared_list}')\n",
        "\n",
        "# Function for removing numbers from the list\n",
        "def remove_numbers():\n",
        "    for _ in range(10):\n",
        "        time.sleep(2)  # Simulate some work being done\n",
        "        with lock:\n",
        "            if shared_list:\n",
        "                removed = shared_list.pop(0)\n",
        "                print(f'Removed {removed} from list: {shared_list}')\n",
        "            else:\n",
        "                print('List is empty, nothing to remove.')\n",
        "\n",
        "# Create threads\n",
        "add_thread = threading.Thread(target=add_numbers)\n",
        "remove_thread = threading.Thread(target=remove_numbers)\n",
        "\n",
        "# Start threads\n",
        "add_thread.start()\n",
        "remove_thread.start()\n",
        "\n",
        "# Wait for threads to complete\n",
        "add_thread.join()\n",
        "remove_thread.join()\n",
        "\n",
        "print('Final list:', shared_list)\n"
      ],
      "metadata": {
        "colab": {
          "base_uri": "https://localhost:8080/"
        },
        "id": "MKSdERdCRd0K",
        "outputId": "907ebb1d-052c-4d17-b6e7-148064a24654"
      },
      "execution_count": 16,
      "outputs": [
        {
          "output_type": "stream",
          "name": "stdout",
          "text": [
            "Added 0 to list: [0]\n",
            "Added 1 to list: [0, 1]\n",
            "Removed 0 from list: [1]\n",
            "Added 2 to list: [1, 2]\n",
            "Added 3 to list: [1, 2, 3]\n",
            "Removed 1 from list: [2, 3]\n",
            "Added 4 to list: [2, 3, 4]\n",
            "Added 5 to list: [2, 3, 4, 5]\n",
            "Removed 2 from list: [3, 4, 5]\n",
            "Added 6 to list: [3, 4, 5, 6]\n",
            "Added 7 to list: [3, 4, 5, 6, 7]\n",
            "Removed 3 from list: [4, 5, 6, 7]\n",
            "Added 8 to list: [4, 5, 6, 7, 8]\n",
            "Added 9 to list: [4, 5, 6, 7, 8, 9]\n",
            "Removed 4 from list: [5, 6, 7, 8, 9]\n",
            "Removed 5 from list: [6, 7, 8, 9]\n",
            "Removed 6 from list: [7, 8, 9]\n",
            "Removed 7 from list: [8, 9]\n",
            "Removed 8 from list: [9]\n",
            "Removed 9 from list: []\n",
            "Final list: []\n"
          ]
        }
      ]
    },
    {
      "cell_type": "markdown",
      "source": [
        "**5. Describe the methods and tools available in Python for safely sharing data between threads and\n",
        "processes.**"
      ],
      "metadata": {
        "id": "Z5Q2B94ZRmzm"
      }
    },
    {
      "cell_type": "code",
      "source": [
        "##Thread Synchronization with threading.Lock\n",
        "\n",
        "import threading\n",
        "\n",
        "# Shared resource\n",
        "shared_list = []\n",
        "\n",
        "# Lock for synchronization\n",
        "lock = threading.Lock()\n",
        "\n",
        "def add_numbers():\n",
        "    for i in range(5):\n",
        "        with lock:\n",
        "            shared_list.append(i)\n",
        "            print(f'Added {i} to list: {shared_list}')\n",
        "        time.sleep(1)\n",
        "\n",
        "def remove_numbers():\n",
        "    for _ in range(5):\n",
        "        with lock:\n",
        "            if shared_list:\n",
        "                removed = shared_list.pop(0)\n",
        "                print(f'Removed {removed} from list: {shared_list}')\n",
        "            else:\n",
        "                print('List is empty, nothing to remove.')\n",
        "        time.sleep(2)\n",
        "\n",
        "# Create and start threads\n",
        "add_thread = threading.Thread(target=add_numbers)\n",
        "remove_thread = threading.Thread(target=remove_numbers)\n",
        "\n",
        "add_thread.start()\n",
        "remove_thread.start()\n",
        "\n",
        "add_thread.join()\n",
        "remove_thread.join()\n"
      ],
      "metadata": {
        "colab": {
          "base_uri": "https://localhost:8080/"
        },
        "id": "_-TyaHl-Ypz2",
        "outputId": "64622343-0c38-463e-f5c6-adac5f5c5571"
      },
      "execution_count": 21,
      "outputs": [
        {
          "output_type": "stream",
          "name": "stdout",
          "text": [
            "Added 0 to list: [0]\n",
            "Removed 0 from list: []\n",
            "Added 1 to list: [1]\n",
            "Added 2 to list: [1, 2]\n",
            "Removed 1 from list: [2]\n",
            "Added 3 to list: [2, 3]\n",
            "Added 4 to list: [2, 3, 4]\n",
            "Removed 2 from list: [3, 4]\n",
            "Removed 3 from list: [4]\n",
            "Removed 4 from list: []\n"
          ]
        }
      ]
    },
    {
      "cell_type": "code",
      "source": [
        "##Thread synchronization with threading.Rlock\n",
        "\n",
        "import threading\n",
        "\n",
        "# Shared resource\n",
        "shared_list = []\n",
        "\n",
        "# Reentrant lock\n",
        "rlock = threading.RLock()\n",
        "\n",
        "def add_numbers():\n",
        "    with rlock:\n",
        "        for i in range(5):\n",
        "            shared_list.append(i)\n",
        "            print(f'Added {i} to list: {shared_list}')\n",
        "            with rlock:\n",
        "                print(f'List after reentrant addition: {shared_list}')\n",
        "            time.sleep(1)\n",
        "\n",
        "def remove_numbers():\n",
        "    with rlock:\n",
        "        for _ in range(5):\n",
        "            if shared_list:\n",
        "                removed = shared_list.pop(0)\n",
        "                print(f'Removed {removed} from list: {shared_list}')\n",
        "            else:\n",
        "                print('List is empty, nothing to remove.')\n",
        "            time.sleep(2)\n",
        "\n",
        "# Create and start threads\n",
        "add_thread = threading.Thread(target=add_numbers)\n",
        "remove_thread = threading.Thread(target=remove_numbers)\n",
        "\n",
        "add_thread.start()\n",
        "remove_thread.start()\n",
        "\n",
        "add_thread.join()\n",
        "remove_thread.join()\n"
      ],
      "metadata": {
        "colab": {
          "base_uri": "https://localhost:8080/"
        },
        "id": "UfFZ2ZQjY5Vm",
        "outputId": "d5fee098-c14d-444a-b30f-565efee4435e"
      },
      "execution_count": 22,
      "outputs": [
        {
          "output_type": "stream",
          "name": "stdout",
          "text": [
            "Added 0 to list: [0]\n",
            "List after reentrant addition: [0]\n",
            "Added 1 to list: [0, 1]\n",
            "List after reentrant addition: [0, 1]\n",
            "Added 2 to list: [0, 1, 2]\n",
            "List after reentrant addition: [0, 1, 2]\n",
            "Added 3 to list: [0, 1, 2, 3]\n",
            "List after reentrant addition: [0, 1, 2, 3]\n",
            "Added 4 to list: [0, 1, 2, 3, 4]\n",
            "List after reentrant addition: [0, 1, 2, 3, 4]\n",
            "Removed 0 from list: [1, 2, 3, 4]\n",
            "Removed 1 from list: [2, 3, 4]\n",
            "Removed 2 from list: [3, 4]\n",
            "Removed 3 from list: [4]\n",
            "Removed 4 from list: []\n"
          ]
        }
      ]
    },
    {
      "cell_type": "code",
      "source": [
        "## using threading.Semaphore\n",
        "import threading\n",
        "import time\n",
        "\n",
        "# Semaphore to control access\n",
        "semaphore = threading.Semaphore(2)\n",
        "\n",
        "def task(name):\n",
        "    with semaphore:\n",
        "        print(f'Task {name} starting.')\n",
        "        time.sleep(2)  # Simulate work\n",
        "        print(f'Task {name} finished.')\n",
        "\n",
        "# Create and start threads\n",
        "threads = [threading.Thread(target=task, args=(i,)) for i in range(5)]\n",
        "\n",
        "for thread in threads:\n",
        "    thread.start()\n",
        "\n",
        "for thread in threads:\n",
        "    thread.join()\n"
      ],
      "metadata": {
        "colab": {
          "base_uri": "https://localhost:8080/"
        },
        "id": "8GCtNKUDZUlf",
        "outputId": "f584aa22-f1eb-416c-aec3-461e5eff5f31"
      },
      "execution_count": 23,
      "outputs": [
        {
          "output_type": "stream",
          "name": "stdout",
          "text": [
            "Task 0 starting.\n",
            "Task 1 starting.\n",
            "Task 0 finished.\n",
            "Task 2 starting.Task 1 finished.\n",
            "\n",
            "Task 3 starting.\n",
            "Task 2 finished.Task 3 finished.\n",
            "\n",
            "Task 4 starting.\n",
            "Task 4 finished.\n"
          ]
        }
      ]
    },
    {
      "cell_type": "code",
      "source": [
        "## using threading.event\n",
        "import threading\n",
        "import time\n",
        "\n",
        "# Event for signaling\n",
        "event = threading.Event()\n",
        "\n",
        "def waiter():\n",
        "    print('Waiting for event to be set.')\n",
        "    event.wait()  # Block until the event is set\n",
        "    print('Event has been set, proceeding.')\n",
        "\n",
        "def setter():\n",
        "    time.sleep(2)  # Simulate work\n",
        "    event.set()  # Set the event\n",
        "    print('Event set.')\n",
        "\n",
        "# Create and start threads\n",
        "waiter_thread = threading.Thread(target=waiter)\n",
        "setter_thread = threading.Thread(target=setter)\n",
        "\n",
        "waiter_thread.start()\n",
        "setter_thread.start()\n",
        "\n",
        "waiter_thread.join()\n",
        "setter_thread.join()\n"
      ],
      "metadata": {
        "colab": {
          "base_uri": "https://localhost:8080/"
        },
        "id": "RmtwCBWTaOQY",
        "outputId": "7007dda2-60e8-4308-ccaa-e4e5e02c57bc"
      },
      "execution_count": 1,
      "outputs": [
        {
          "output_type": "stream",
          "name": "stdout",
          "text": [
            "Waiting for event to be set.\n",
            "Event set.Event has been set, proceeding.\n",
            "\n"
          ]
        }
      ]
    },
    {
      "cell_type": "code",
      "source": [
        "## multiprocessing.Lock\n",
        "from multiprocessing import Process, Lock\n",
        "\n",
        "# Shared resource and lock\n",
        "shared_list = []\n",
        "lock = Lock()\n",
        "\n",
        "def add_numbers():\n",
        "    for i in range(5):\n",
        "        with lock:\n",
        "            shared_list.append(i)\n",
        "            print(f'Added {i} to list: {shared_list}')\n",
        "\n",
        "def remove_numbers():\n",
        "    for _ in range(5):\n",
        "        with lock:\n",
        "            if shared_list:\n",
        "                removed = shared_list.pop(0)\n",
        "                print(f'Removed {removed} from list: {shared_list}')\n",
        "\n",
        "# Create and start processes\n",
        "add_process = Process(target=add_numbers)\n",
        "remove_process = Process(target=remove_numbers)\n",
        "\n",
        "add_process.start()\n",
        "remove_process.start()\n",
        "\n",
        "add_process.join()\n",
        "remove_process.join()\n"
      ],
      "metadata": {
        "colab": {
          "base_uri": "https://localhost:8080/"
        },
        "id": "2kUqZdDXaXbh",
        "outputId": "0ac896b2-daff-499f-87a8-84918b33644c"
      },
      "execution_count": 2,
      "outputs": [
        {
          "output_type": "stream",
          "name": "stdout",
          "text": [
            "Added 0 to list: [0]\n",
            "Added 1 to list: [0, 1]\n",
            "Added 2 to list: [0, 1, 2]\n",
            "Added 3 to list: [0, 1, 2, 3]\n",
            "Added 4 to list: [0, 1, 2, 3, 4]\n"
          ]
        }
      ]
    },
    {
      "cell_type": "code",
      "source": [
        "## multiprocessing.Manager\n",
        "from multiprocessing import Process, Manager\n",
        "\n",
        "def worker(shared_list):\n",
        "    shared_list.append(1)\n",
        "    print(f'List updated to: {shared_list}')\n",
        "\n",
        "if __name__ == '__main__':\n",
        "    with Manager() as manager:\n",
        "        shared_list = manager.list()\n",
        "        processes = [Process(target=worker, args=(shared_list,)) for _ in range(5)]\n",
        "\n",
        "        for p in processes:\n",
        "            p.start()\n",
        "\n",
        "        for p in processes:\n",
        "            p.join()\n",
        "\n",
        "        print(f'Final list: {shared_list}')\n"
      ],
      "metadata": {
        "colab": {
          "base_uri": "https://localhost:8080/"
        },
        "id": "tS8mcaewafoF",
        "outputId": "c8efd1d8-34b4-4d5f-cb4e-6c7469cb3129"
      },
      "execution_count": 3,
      "outputs": [
        {
          "output_type": "stream",
          "name": "stdout",
          "text": [
            "List updated to: [1]\n",
            "List updated to: [1, 1, 1]List updated to: [1, 1]\n",
            "\n",
            "List updated to: [1, 1, 1, 1]List updated to: [1, 1, 1, 1, 1]\n",
            "\n",
            "Final list: [1, 1, 1, 1, 1]\n"
          ]
        }
      ]
    },
    {
      "cell_type": "code",
      "source": [
        "## multiprocessing.Queue\n",
        "\n",
        "from multiprocessing import Process, Queue\n",
        "\n",
        "def producer(queue):\n",
        "    for i in range(5):\n",
        "        queue.put(i)\n",
        "        print(f'Produced {i}')\n",
        "\n",
        "def consumer(queue):\n",
        "    while True:\n",
        "        item = queue.get()\n",
        "        if item is None:\n",
        "            break\n",
        "        print(f'Consumed {item}')\n",
        "\n",
        "if __name__ == '__main__':\n",
        "    queue = Queue()\n",
        "    p1 = Process(target=producer, args=(queue,))\n",
        "    p2 = Process(target=consumer, args=(queue,))\n",
        "\n",
        "    p1.start()\n",
        "    p2.start()\n",
        "\n",
        "    p1.join()\n",
        "    queue.put(None)  # Signal the consumer to exit\n",
        "    p2.join()\n"
      ],
      "metadata": {
        "colab": {
          "base_uri": "https://localhost:8080/"
        },
        "id": "SvmUTxqrao_N",
        "outputId": "20eb256b-4c98-40f5-9016-d671fea2ef91"
      },
      "execution_count": 4,
      "outputs": [
        {
          "output_type": "stream",
          "name": "stdout",
          "text": [
            "Produced 0\n",
            "Consumed 0Produced 1\n",
            "Produced 2\n",
            "\n",
            "Consumed 1Produced 3\n",
            "\n",
            "Produced 4Consumed 2\n",
            "\n",
            "Consumed 3\n",
            "Consumed 4\n"
          ]
        }
      ]
    },
    {
      "cell_type": "code",
      "source": [
        "## multiprocessing.Pipe\n",
        "from multiprocessing import Process, Pipe\n",
        "\n",
        "def sender(conn):\n",
        "    conn.send('Hello from the sender!')\n",
        "    conn.close()\n",
        "\n",
        "def receiver(conn):\n",
        "    message = conn.recv()\n",
        "    print(f'Received message: {message}')\n",
        "\n",
        "if __name__ == '__main__':\n",
        "    parent_conn, child_conn = Pipe()\n",
        "\n",
        "    p1 = Process(target=sender, args=(child_conn,))\n",
        "    p2 = Process(target=receiver, args=(parent_conn,))\n",
        "\n",
        "    p1.start()\n",
        "    p2.start()\n",
        "\n",
        "    p1.join()\n",
        "    p2.join()\n"
      ],
      "metadata": {
        "colab": {
          "base_uri": "https://localhost:8080/"
        },
        "id": "lpETONZOatAt",
        "outputId": "63e6285b-82fc-4da9-fe3e-d605b70001bd"
      },
      "execution_count": 5,
      "outputs": [
        {
          "output_type": "stream",
          "name": "stdout",
          "text": [
            "Received message: Hello from the sender!\n"
          ]
        }
      ]
    },
    {
      "cell_type": "code",
      "source": [
        "## multiprocessing.Event\n",
        "from multiprocessing import Process, Event\n",
        "import time\n",
        "\n",
        "def wait_for_event(event):\n",
        "    print('Waiting for event to be set.')\n",
        "    event.wait()\n",
        "    print('Event has been set, proceeding.')\n",
        "\n",
        "def set_event(event):\n",
        "    time.sleep(2)\n",
        "    event.set()\n",
        "    print('Event set.')\n",
        "\n",
        "if __name__ == '__main__':\n",
        "    event = Event()\n",
        "    p1 = Process(target=wait_for_event, args=(event,))\n",
        "    p2 = Process(target=set_event, args=(event,))\n",
        "\n",
        "    p1.start()\n",
        "    p2.start()\n",
        "\n",
        "    p1.join()\n",
        "    p2.join()\n"
      ],
      "metadata": {
        "colab": {
          "base_uri": "https://localhost:8080/"
        },
        "id": "8QT437qGa2CV",
        "outputId": "beb889bd-723a-416d-a94e-ae717c129b26"
      },
      "execution_count": 6,
      "outputs": [
        {
          "output_type": "stream",
          "name": "stdout",
          "text": [
            "Waiting for event to be set.\n",
            "Event has been set, proceeding.\n",
            "Event set.\n"
          ]
        }
      ]
    },
    {
      "cell_type": "markdown",
      "source": [
        "**6.Discuss why it’s crucial to handle exceptions in concurrent programs and the techniques available for\n",
        "doing so.**"
      ],
      "metadata": {
        "id": "1R4J8Hsdd4gn"
      }
    },
    {
      "cell_type": "markdown",
      "source": [
        "Handling exceptions in concurrent programs is crucial for maintaining robustness, reliability, and predictable behavior. In concurrent environments, such as those involving multiple threads or processes, exceptions can arise from various sources, including unexpected inputs, resource issues, or logical errors. If not handled properly, exceptions can lead to inconsistent states, incomplete processing, and even crashes, which affect the overall stability of the application.\n",
        "\n",
        "Handling Exceptions is Crucial\n",
        "Preventing Crashes:\n",
        "\n",
        "Unhandled exceptions can cause a thread or process to terminate unexpectedly, potentially leading to the entire application crashing or becoming unresponsive.\n",
        "Maintaining Data Integrity:\n",
        "\n",
        "Exceptions can leave shared resources or data structures in inconsistent states if not handled properly, leading to potential corruption or erroneous results.\n",
        "Ensuring Predictable Behavior:\n",
        "\n",
        "Proper exception handling ensures that the program can gracefully handle errors and continue functioning, maintaining a predictable flow of operations.\n",
        "Improving Debugging and Maintenance:Handling exceptions allows for better logging and debugging, providing insights into what went wrong and where, which aids in diagnosing and fixing issues.\n",
        "Resource Management.Exceptions might occur during resource allocation or deallocation. Proper handling ensures resources are released correctly, preventing leaks or deadlocks.\n"
      ],
      "metadata": {
        "id": "DGjyK0eTeHL2"
      }
    },
    {
      "cell_type": "code",
      "source": [
        "## thread except blocks\n",
        "\n",
        "import threading\n",
        "\n",
        "def thread_function():\n",
        "    try:\n",
        "        # Code that may raise an exception\n",
        "        raise ValueError(\"An error occurred\")\n",
        "    except Exception as e:\n",
        "        print(f'Exception caught in thread: {e}')\n",
        "\n",
        "thread = threading.Thread(target=thread_function)\n",
        "thread.start()\n",
        "thread.join()\n"
      ],
      "metadata": {
        "colab": {
          "base_uri": "https://localhost:8080/"
        },
        "id": "6fj7UTrQeqy0",
        "outputId": "a34b93c8-3ca3-4a3b-c8e9-737c43bb79ee"
      },
      "execution_count": 9,
      "outputs": [
        {
          "output_type": "stream",
          "name": "stdout",
          "text": [
            "Exception caught in thread: An error occurred\n"
          ]
        }
      ]
    },
    {
      "cell_type": "code",
      "source": [
        "## threading with callbacks\n",
        "\n",
        "import threading\n",
        "\n",
        "def worker(callback):\n",
        "    try:\n",
        "        # Simulate work and potential exception\n",
        "        raise RuntimeError(\"Error in worker\")\n",
        "    except Exception as e:\n",
        "        callback(e)\n",
        "\n",
        "def handle_exception(e):\n",
        "    print(f'Exception in callback: {e}')\n",
        "\n",
        "thread = threading.Thread(target=worker, args=(handle_exception,))\n",
        "thread.start()\n",
        "thread.join()\n"
      ],
      "metadata": {
        "colab": {
          "base_uri": "https://localhost:8080/"
        },
        "id": "oUPjP7UjfG1S",
        "outputId": "e475f0ac-d674-44a2-d327-52d3134b22c6"
      },
      "execution_count": 10,
      "outputs": [
        {
          "output_type": "stream",
          "name": "stdout",
          "text": [
            "Exception in callback: Error in worker\n"
          ]
        }
      ]
    },
    {
      "cell_type": "code",
      "source": [
        "## cocurrent.futures\n",
        "\n",
        "from concurrent.futures import ThreadPoolExecutor, as_completed\n",
        "\n",
        "def task(n):\n",
        "    if n == 3:\n",
        "        raise ValueError(\"An error occurred\")\n",
        "    return n\n",
        "\n",
        "with ThreadPoolExecutor() as executor:\n",
        "    futures = [executor.submit(task, i) for i in range(5)]\n",
        "    for future in as_completed(futures):\n",
        "        try:\n",
        "            result = future.result()\n",
        "            print(f'Task result: {result}')\n",
        "        except Exception as e:\n",
        "            print(f'Exception caught: {e}')\n"
      ],
      "metadata": {
        "colab": {
          "base_uri": "https://localhost:8080/"
        },
        "id": "rPElBSMhfPgB",
        "outputId": "c8638f62-7b3d-4ff1-be0f-ceb9cf0af3bc"
      },
      "execution_count": 11,
      "outputs": [
        {
          "output_type": "stream",
          "name": "stdout",
          "text": [
            "Task result: 1\n",
            "Task result: 2\n",
            "Task result: 0\n",
            "Exception caught: An error occurred\n",
            "Task result: 4\n"
          ]
        }
      ]
    },
    {
      "cell_type": "code",
      "source": [
        "## custom exception handaling\n",
        "\n",
        "class CustomError(Exception):\n",
        "    pass\n",
        "\n",
        "def worker():\n",
        "    try:\n",
        "        raise CustomError(\"Custom error occurred\")\n",
        "    except CustomError as e:\n",
        "        print(f'Caught custom exception: {e}')\n",
        "\n",
        "thread = threading.Thread(target=worker)\n",
        "thread.start()\n",
        "thread.join()\n"
      ],
      "metadata": {
        "colab": {
          "base_uri": "https://localhost:8080/"
        },
        "id": "IiUmTUQjfdJX",
        "outputId": "88b88a42-216a-4aca-fe5a-e2906e95d914"
      },
      "execution_count": 12,
      "outputs": [
        {
          "output_type": "stream",
          "name": "stdout",
          "text": [
            "Caught custom exception: Custom error occurred\n"
          ]
        }
      ]
    },
    {
      "cell_type": "code",
      "source": [
        "## process level handaling\n",
        "\n",
        "from multiprocessing import Process\n",
        "\n",
        "def worker():\n",
        "    try:\n",
        "        raise RuntimeError(\"Error in process\")\n",
        "    except Exception as e:\n",
        "        print(f'Exception in process: {e}')\n",
        "\n",
        "process = Process(target=worker)\n",
        "process.start()\n",
        "process.join()\n"
      ],
      "metadata": {
        "colab": {
          "base_uri": "https://localhost:8080/"
        },
        "id": "O9rXZ0Jofp0m",
        "outputId": "d4b3ba9d-ec43-4c0e-e321-e512cbb72b03"
      },
      "execution_count": 13,
      "outputs": [
        {
          "output_type": "stream",
          "name": "stdout",
          "text": [
            "Exception in process: Error in process\n"
          ]
        }
      ]
    },
    {
      "cell_type": "code",
      "source": [
        "## logging exceptions\n",
        "\n",
        "import logging\n",
        "\n",
        "def worker():\n",
        "    try:\n",
        "        raise ValueError(\"Value error in worker\")\n",
        "    except Exception as e:\n",
        "        logging.error(f'Exception in worker: {e}')\n",
        "\n",
        "thread = threading.Thread(target=worker)\n",
        "thread.start()\n"
      ],
      "metadata": {
        "colab": {
          "base_uri": "https://localhost:8080/"
        },
        "id": "BB7rGV8yf-hp",
        "outputId": "12cf373f-e555-4d92-c117-e47fa86c73dd"
      },
      "execution_count": 14,
      "outputs": [
        {
          "output_type": "stream",
          "name": "stderr",
          "text": [
            "ERROR:root:Exception in worker: Value error in worker\n"
          ]
        }
      ]
    },
    {
      "cell_type": "markdown",
      "source": [
        "**7.Create a program that uses a thread pool to calculate the factorial of numbers from 1 to 10 concurrently.\n",
        "Use concurrent.futures.ThreadPoolExecutor to manage the threads.**"
      ],
      "metadata": {
        "id": "-HxOlfRIgnmu"
      }
    },
    {
      "cell_type": "code",
      "source": [
        "import concurrent.futures\n",
        "import math\n",
        "\n",
        "def factorial(n):\n",
        "    \"\"\"Function to calculate factorial of a number.\"\"\"\n",
        "    return math.factorial(n)\n",
        "\n",
        "def main():\n",
        "    numbers = list(range(1, 11))  # Numbers from 1 to 10\n",
        "\n",
        "    # Create a ThreadPoolExecutor with a pool of 4 threads\n",
        "    with concurrent.futures.ThreadPoolExecutor(max_workers=4) as executor:\n",
        "        # Submit tasks to the executor\n",
        "        future_to_number = {executor.submit(factorial, number): number for number in numbers}\n",
        "\n",
        "        # Collect and print results as they complete\n",
        "        for future in concurrent.futures.as_completed(future_to_number):\n",
        "            number = future_to_number[future]\n",
        "            try:\n",
        "                result = future.result()\n",
        "                print(f'Factorial of {number} is {result}')\n",
        "            except Exception as exc:\n",
        "                print(f'Generated an exception: {exc}')\n",
        "\n",
        "if __name__ == '__main__':\n",
        "    main()\n"
      ],
      "metadata": {
        "colab": {
          "base_uri": "https://localhost:8080/"
        },
        "id": "UpQe2o1-g5fE",
        "outputId": "fb915038-4339-4429-e5ca-a6269040ebff"
      },
      "execution_count": 15,
      "outputs": [
        {
          "output_type": "stream",
          "name": "stdout",
          "text": [
            "Factorial of 7 is 5040\n",
            "Factorial of 5 is 120\n",
            "Factorial of 6 is 720\n",
            "Factorial of 10 is 3628800\n",
            "Factorial of 3 is 6\n",
            "Factorial of 9 is 362880\n",
            "Factorial of 2 is 2\n",
            "Factorial of 4 is 24\n",
            "Factorial of 8 is 40320\n",
            "Factorial of 1 is 1\n"
          ]
        }
      ]
    },
    {
      "cell_type": "markdown",
      "source": [
        "**8. Create a Python program that uses multiprocessing.Pool to compute the square of numbers from 1 to 10 in\n",
        "parallel. Measure the time taken to perform this computation using a pool of different sizes (e.g., 2, 4, 8\n",
        "processes).**"
      ],
      "metadata": {
        "id": "qfAFQz0qhH6f"
      }
    },
    {
      "cell_type": "code",
      "source": [
        "import multiprocessing\n",
        "import time\n",
        "\n",
        "def square(n):\n",
        "    \"\"\"Function to compute the square of a number.\"\"\"\n",
        "    return n * n\n",
        "\n",
        "def compute_squares(pool_size):\n",
        "    \"\"\"Function to compute squares using a pool of worker processes.\"\"\"\n",
        "    numbers = list(range(1, 11))  # Numbers from 1 to 10\n",
        "\n",
        "    # Create a Pool with the specified number of processes\n",
        "    with multiprocessing.Pool(processes=pool_size) as pool:\n",
        "        # Measure the start time\n",
        "        start_time = time.time()\n",
        "\n",
        "        # Compute the squares in parallel\n",
        "        results = pool.map(square, numbers)\n",
        "\n",
        "        # Measure the end time\n",
        "        end_time = time.time()\n",
        "\n",
        "    return results, end_time - start_time\n",
        "\n",
        "def main():\n",
        "    pool_sizes = [2, 4, 8]  # Different pool sizes to test\n",
        "    numbers = list(range(1, 11))\n",
        "\n",
        "    for pool_size in pool_sizes:\n",
        "        print(f'\\nUsing a pool of {pool_size} process(es):')\n",
        "        results, elapsed_time = compute_squares(pool_size)\n",
        "        print(f'Squares: {results}')\n",
        "        print(f'Time taken: {elapsed_time:.4f} seconds')\n",
        "\n",
        "if __name__ == '__main__':\n",
        "    main()\n"
      ],
      "metadata": {
        "colab": {
          "base_uri": "https://localhost:8080/"
        },
        "id": "MWPRWaLMhP_j",
        "outputId": "4ebf568f-c426-45a0-fc93-738d6ea6b0ee"
      },
      "execution_count": 16,
      "outputs": [
        {
          "output_type": "stream",
          "name": "stdout",
          "text": [
            "\n",
            "Using a pool of 2 process(es):\n",
            "Squares: [1, 4, 9, 16, 25, 36, 49, 64, 81, 100]\n",
            "Time taken: 0.0024 seconds\n",
            "\n",
            "Using a pool of 4 process(es):\n",
            "Squares: [1, 4, 9, 16, 25, 36, 49, 64, 81, 100]\n",
            "Time taken: 0.0037 seconds\n",
            "\n",
            "Using a pool of 8 process(es):\n",
            "Squares: [1, 4, 9, 16, 25, 36, 49, 64, 81, 100]\n",
            "Time taken: 0.0030 seconds\n"
          ]
        }
      ]
    }
  ]
}
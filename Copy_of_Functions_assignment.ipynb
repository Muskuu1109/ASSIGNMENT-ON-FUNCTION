{
  "nbformat": 4,
  "nbformat_minor": 0,
  "metadata": {
    "colab": {
      "provenance": [],
      "authorship_tag": "ABX9TyOfZw7dPwfTTntYxOMXFa0v",
      "include_colab_link": true
    },
    "kernelspec": {
      "name": "python3",
      "display_name": "Python 3"
    },
    "language_info": {
      "name": "python"
    }
  },
  "cells": [
    {
      "cell_type": "markdown",
      "metadata": {
        "id": "view-in-github",
        "colab_type": "text"
      },
      "source": [
        "<a href=\"https://colab.research.google.com/github/Muskuu1109/ASSIGNMENT-ON-FUNCTION/blob/main/Copy_of_Functions_assignment.ipynb\" target=\"_parent\"><img src=\"https://colab.research.google.com/assets/colab-badge.svg\" alt=\"Open In Colab\"/></a>"
      ]
    },
    {
      "cell_type": "code",
      "execution_count": null,
      "metadata": {
        "id": "UG6TfFx50D4A"
      },
      "outputs": [],
      "source": []
    },
    {
      "cell_type": "code",
      "source": [],
      "metadata": {
        "id": "xT9ikNFyWebW"
      },
      "execution_count": null,
      "outputs": []
    },
    {
      "cell_type": "markdown",
      "source": [
        "***THEORY QUESTIONS***"
      ],
      "metadata": {
        "id": "Nu_mH-PVObP2"
      }
    },
    {
      "cell_type": "markdown",
      "source": [
        "**WHAT IS THE DIFFERENCE BETWEEN A FUNCTION AND METHOD IN PYTHON?**\n",
        "\n",
        "Function is block of code that is also called by its name. (independent)\n",
        "The function can have different parameters or may not have any at all. If any data (parameters) are passed, they are passed explicitly.\n",
        "It may or may not return any data.\n",
        "Function does not deal with Class and its instance concept.\n",
        "\n",
        "Method is called by its name, but it is associated to an object (dependent).\n",
        "A method definition always includes ‘self’ as its first parameter.\n",
        "A method is implicitly passed to the object on which it is invoked.\n",
        "It may or may not return any data.\n",
        "A method can operate on the data (instance variables) that is contained by the corresponding class.\n",
        "\n",
        "Difference between method and function\n",
        "\n",
        "Simply, function and method both look similar as they perform in almost similar way, but the key difference is the concept of Class and its Object.\n",
        "Functions can be called only by its name, as it is defined independently. But methods can’t be called by its name only, we need to invoke the class by a reference of that class in which it is defined, i.e. method is defined within a class and hence they are dependent on that class."
      ],
      "metadata": {
        "id": "YaI0nBjs0y1G"
      }
    },
    {
      "cell_type": "code",
      "source": [
        "#Example of Function\n",
        "def greet():\n",
        "    print('Hello World!')\n",
        "\n",
        "# call the function\n",
        "greet()\n",
        "\n",
        "print('Outside function')"
      ],
      "metadata": {
        "colab": {
          "base_uri": "https://localhost:8080/"
        },
        "id": "zVAOZd5d0oWb",
        "outputId": "b10dd3fd-124d-4f9b-c483-fdb58271c399"
      },
      "execution_count": null,
      "outputs": [
        {
          "output_type": "stream",
          "name": "stdout",
          "text": [
            "Hello World!\n",
            "Outside function\n"
          ]
        }
      ]
    },
    {
      "cell_type": "markdown",
      "source": [],
      "metadata": {
        "id": "S8FmXVpG6sS-"
      }
    },
    {
      "cell_type": "code",
      "source": [
        "#Example of Method\n",
        "class Student:\n",
        "\n",
        "    no_of_students = 10\n",
        "\n",
        "    def __init__(self, name, age):\n",
        "       self.name = name\n",
        "       self.age = age\n",
        "\n",
        "    def birthday(self):\n",
        "       self.age += 1\n",
        "       return f\"{self.name} has now turned {self.age}\\n\" \\\n",
        "              f\"{self.no_of_students - 1} students of her\" \\\n",
        "              f\" class have sent Birthday gifts.\"\n",
        "\n",
        "student1 = Student(\"Sonakshi\", 13)\n",
        "\n",
        "print(student1.birthday())"
      ],
      "metadata": {
        "colab": {
          "base_uri": "https://localhost:8080/"
        },
        "id": "HwUE5o7Y6s_-",
        "outputId": "a75db2e4-a6ab-4b3e-ec14-807b32bbb78f"
      },
      "execution_count": null,
      "outputs": [
        {
          "output_type": "stream",
          "name": "stdout",
          "text": [
            "Sonakshi has now turned 14\n",
            "9 students of her class have sent Birthday gifts.\n"
          ]
        }
      ]
    },
    {
      "cell_type": "markdown",
      "source": [
        "**Explain the concept of function agumemts and parameters in python?**\n",
        "\n",
        "An argument is a value that is passed to a function when it is called. It might be a variable, value or object passed to a function or method as input. They are written when we are calling the function.Python functions can contain two types of arguments:\n",
        "\n",
        "Positional Arguments\n",
        "Keyword Arguments\n",
        "\n",
        "\n",
        "\n",
        "\n"
      ],
      "metadata": {
        "id": "BKda1hKB6_u9"
      }
    },
    {
      "cell_type": "code",
      "source": [
        "def sum(a,b):\n",
        "  print(a+b)\n",
        "\n",
        "# Here the values 1,2 are arguments\n",
        "sum(1,2)\n"
      ],
      "metadata": {
        "colab": {
          "base_uri": "https://localhost:8080/"
        },
        "id": "yU4qqzmp8fpr",
        "outputId": "3f4e39b3-a1f9-49e2-c13f-b9131ce3ea71"
      },
      "execution_count": null,
      "outputs": [
        {
          "output_type": "stream",
          "name": "stdout",
          "text": [
            "3\n"
          ]
        }
      ]
    },
    {
      "cell_type": "markdown",
      "source": [
        "A parameter is the variable defined within the parentheses during function definition. Simply they are written when we declare a function."
      ],
      "metadata": {
        "id": "9C7sIvi_9A5T"
      }
    },
    {
      "cell_type": "code",
      "source": [
        "def my_function(country = \"India\"):\n",
        "  print(\"I am from \" + country)\n",
        "\n",
        "my_function(\"Sweden\")\n",
        "my_function(\"Norway\")\n",
        "my_function()\n",
        "my_function(\"Brazil\")"
      ],
      "metadata": {
        "colab": {
          "base_uri": "https://localhost:8080/"
        },
        "id": "MP-Qb-N79NSS",
        "outputId": "f96d5608-2889-443a-f05c-d9bef8958a83"
      },
      "execution_count": null,
      "outputs": [
        {
          "output_type": "stream",
          "name": "stdout",
          "text": [
            "I am from Sweden\n",
            "I am from Norway\n",
            "I am from India\n",
            "I am from Brazil\n"
          ]
        }
      ]
    },
    {
      "cell_type": "markdown",
      "source": [
        "**WHAT ARE THE DIFFERENT WAYS TO DEFINE AND CALL A FUNCTION IN PYTHON?**\n",
        "\n",
        "Defining a function in Python involves two main steps: defining the function and specifying the arguments it takes.\n",
        "\n",
        "To define a function, you use the def keyword followed by the name of the function and parentheses (). If the function takes any arguments, they are included within the parentheses. The code block for the function is then indented after the colon."
      ],
      "metadata": {
        "id": "aDiIvuq5-Pz9"
      }
    },
    {
      "cell_type": "code",
      "source": [
        "#example with arguments and parameter\n",
        "def add(num1: int, num2: int) -> int:\n",
        "    \"\"\"Add two numbers\"\"\"\n",
        "    num3 = num1 + num2\n",
        "\n",
        "    return num3\n",
        "\n",
        "# Driver code\n",
        "num1, num2 = 5, 15\n",
        "ans = add(num1, num2)\n",
        "print(f\"The addition of {num1} and {num2} results {ans}.\")\n"
      ],
      "metadata": {
        "colab": {
          "base_uri": "https://localhost:8080/"
        },
        "id": "HAMEFbKHAejs",
        "outputId": "621deea3-7977-4794-f8c5-966a9c7b8025"
      },
      "execution_count": null,
      "outputs": [
        {
          "output_type": "stream",
          "name": "stdout",
          "text": [
            "The addition of 5 and 15 results 20.\n"
          ]
        }
      ]
    },
    {
      "cell_type": "code",
      "source": [
        "#calling def function in python\n",
        "# A simple Python function\n",
        "def fun():\n",
        "    print(\"Welcome to GFG\")\n",
        "\n",
        "\n",
        "# Driver code to call a function\n",
        "fun()\n",
        "\n"
      ],
      "metadata": {
        "colab": {
          "base_uri": "https://localhost:8080/"
        },
        "id": "qW4OpGTkAovX",
        "outputId": "2320836d-4494-484a-e68a-b7ec75825a78"
      },
      "execution_count": null,
      "outputs": [
        {
          "output_type": "stream",
          "name": "stdout",
          "text": [
            "Welcome to GFG\n"
          ]
        }
      ]
    },
    {
      "cell_type": "code",
      "source": [
        "#variable length word arguments\n",
        "# Python program to illustrate\n",
        "# *kwargs for variable number of keyword arguments\n",
        "\n",
        "\n",
        "def myFun(**kwargs):\n",
        "    for key, value in kwargs.items():\n",
        "        print(\"%s == %s\" % (key, value))\n",
        "\n",
        "\n",
        "# Driver code\n",
        "myFun(first='Icecream', mid='is', last='love')\n"
      ],
      "metadata": {
        "colab": {
          "base_uri": "https://localhost:8080/"
        },
        "id": "hLDdmM3aA8Y6",
        "outputId": "e03dd52b-1c47-4d42-f3f4-f5592c4013c9"
      },
      "execution_count": null,
      "outputs": [
        {
          "output_type": "stream",
          "name": "stdout",
          "text": [
            "first == Icecreamn\n",
            "mid == is\n",
            "last == love\n"
          ]
        }
      ]
    },
    {
      "cell_type": "code",
      "source": [
        "#function that takes list as input and will return the numneric value\n",
        "def only_numeric(x):\n",
        "    res = []\n",
        "    for i in x:\n",
        "        if type(i) == int or type(i) == float:\n",
        "            res.append(i)\n",
        "    return res\n",
        "\n",
        "    only_numeric([2, 3, 1, \"muskan\" ,\"3+7j\"])"
      ],
      "metadata": {
        "id": "eWz0fQ9tDQ0C"
      },
      "execution_count": null,
      "outputs": []
    },
    {
      "cell_type": "markdown",
      "source": [
        "**WHAT IS THE PURPOSE OF THE RETURN STATEMENT IN THE PYTHON**\n",
        "\n",
        "The Python return statement is a special statement that you can use inside a function or method to send the function’s result back to the caller. A return statement consists of the return keyword followed by an optional return value. The return value of a Python function can be any Python object, and you can use them to perform further computation in your programs."
      ],
      "metadata": {
        "id": "ia9AAgZKE_aA"
      }
    },
    {
      "cell_type": "code",
      "source": [
        "# Python program to\n",
        "# demonstrate return statement\n",
        "\n",
        "def add(a, b):\n",
        "\n",
        "    # returning sum of a and b\n",
        "    return a + b\n",
        "\n",
        "def is_true(a):\n",
        "\n",
        "    # returning boolean of a\n",
        "    return bool(a)\n",
        "\n",
        "# calling function\n",
        "res = add(2, 3)\n",
        "print(\"Result of add function is {}\".format(res))\n",
        "\n",
        "res = is_true(2<5)\n",
        "print(\"\\nResult of is_true function is {}\".format(res))\n"
      ],
      "metadata": {
        "colab": {
          "base_uri": "https://localhost:8080/"
        },
        "id": "F1PRdaPIGLaU",
        "outputId": "a776a1cd-463f-4488-e0b6-ede0cc35a4e6"
      },
      "execution_count": null,
      "outputs": [
        {
          "output_type": "stream",
          "name": "stdout",
          "text": [
            "Result of add function is 5\n",
            "\n",
            "Result of is_true function is True\n"
          ]
        }
      ]
    },
    {
      "cell_type": "code",
      "source": [
        "# A Python program to return multiple\n",
        "# values from a method using tuple\n",
        "\n",
        "# This function returns a tuple\n",
        "def fun():\n",
        "    str = \"PWSKILLS\"\n",
        "    x = 20\n",
        "    return str, x;  # Return tuple, we could also\n",
        "                    # write (str, x)\n",
        "\n",
        "# Driver code to test above method\n",
        "str, x = fun() # Assign returned tuple\n",
        "print(str)\n",
        "print(x)\n"
      ],
      "metadata": {
        "colab": {
          "base_uri": "https://localhost:8080/"
        },
        "id": "GsxI1hIrGnWQ",
        "outputId": "e6cf949e-9e58-4bd5-912d-d16203c88fd1"
      },
      "execution_count": null,
      "outputs": [
        {
          "output_type": "stream",
          "name": "stdout",
          "text": [
            "PWSKILLS\n",
            "20\n"
          ]
        }
      ]
    },
    {
      "cell_type": "code",
      "source": [
        "# A Python program to return multiple\n",
        "# values from a method using dictionary\n",
        "\n",
        "# This function returns a dictionary\n",
        "def fun():\n",
        "    d = dict();\n",
        "    d['str'] = \"Dataanaylst\"\n",
        "    d['x']   = 20\n",
        "    return d\n",
        "\n",
        "# Driver code to test above method\n",
        "d = fun()\n",
        "print(d)\n"
      ],
      "metadata": {
        "colab": {
          "base_uri": "https://localhost:8080/"
        },
        "id": "vM7wHzmpGzQ-",
        "outputId": "ace576a5-3295-44e9-b2aa-a252e0970493"
      },
      "execution_count": null,
      "outputs": [
        {
          "output_type": "stream",
          "name": "stdout",
          "text": [
            "{'str': 'Dataanaylst', 'x': 20}\n"
          ]
        }
      ]
    },
    {
      "cell_type": "markdown",
      "source": [
        "**WHAT ARE ITERATORS IN PYTHON AND HOW THEY DIFFER FROM ITERABLES**\n",
        "\n",
        "An iterator is an object representation a stream of data and returns the data one by one and keeping track of the recent and visited items.Python iterators implement the iterator design pattern, which allows us to traverse a container and access its elements. The iterator pattern decouples the iteration algorithms from container data structures.\n",
        "\n",
        "An iterable is any python object,sequential structure, data structure that is capable of returning its member one at a time permitting it to be iterated over in a loop eg. List,Tuple.\n",
        "\n",
        "Every iterator is also an iterable, but not every iterable is an iterator in Python.\n",
        "\n",
        "For example, a list is iterable but a list is not an iterator. An iterator can be created from an iterable by using the function iter(). To make this possible, the class of an object needs either a method __iter__, which returns an iterator, or a __getitem__ method with sequential indexes starting with 0."
      ],
      "metadata": {
        "id": "vIPXQhQ_HGFS"
      }
    },
    {
      "cell_type": "code",
      "source": [
        "# code\n",
        "s=\"GFG\"\n",
        "s=iter(s)\n",
        "print(s)\n",
        "print(next(s))\n",
        "print(next(s))\n",
        "print(next(s))\n",
        "\n"
      ],
      "metadata": {
        "colab": {
          "base_uri": "https://localhost:8080/"
        },
        "id": "m8tqW_7CK85X",
        "outputId": "bf7baf4e-c180-475d-ace9-303cb3e8b49d"
      },
      "execution_count": null,
      "outputs": [
        {
          "output_type": "stream",
          "name": "stdout",
          "text": [
            "<str_iterator object at 0x7f09e8ffcca0>\n",
            "G\n",
            "F\n",
            "G\n"
          ]
        }
      ]
    },
    {
      "cell_type": "code",
      "source": [
        "# list of cities\n",
        "cities = [\"Berlin\", \"Vienna\", \"Zurich\"]\n",
        "\n",
        "# initialize the object\n",
        "iterator_obj = iter(cities)\n",
        "\n",
        "print(next(iterator_obj))\n",
        "print(next(iterator_obj))\n",
        "print(next(iterator_obj))\n"
      ],
      "metadata": {
        "colab": {
          "base_uri": "https://localhost:8080/"
        },
        "id": "M1Ar26IvLYde",
        "outputId": "d3328ce5-8102-4cd4-8d69-1bf80b594706"
      },
      "execution_count": null,
      "outputs": [
        {
          "output_type": "stream",
          "name": "stdout",
          "text": [
            "Berlin\n",
            "Vienna\n",
            "Zurich\n"
          ]
        }
      ]
    },
    {
      "cell_type": "markdown",
      "source": [
        "**EXPLAIN THE CONCEPT OF GENERATORS IN PYTHON AND HOW ARE THEY DEFINED.**\n",
        "\n",
        "Generators are a type of iterator, but with a crucial difference. Instead of computing and storing all the values at once, generators generate values on-the-fly, one at a time, during iteration. This characteristic makes generators memory-efficient and particularly useful for scenarios where memory usage needs to be minimized.A generator function is defined like a regular function, but instead of using the return keyword, it uses yield to produce a series of values. The function is paused at the yield statement, and the yielded value is returned to the caller. When the generator is iterated over again, the function resumes execution from where it was paused, continuing until the next yield statement is encountered.\n",
        "\n",
        "*ADVANTAGE OF GENERATORS*\n",
        "\n",
        "Memory Efficiency: Generators produce values one at a time, so they don’t require storing the entire sequence in memory. This is crucial for working with large datasets.\n",
        "Lazy Evaluation: Values are generated only when needed, allowing for efficient utilization of resources.\n",
        "Faster Execution: Since generators produce values on-the-fly, they can start producing results faster compared to loading an entire dataset into memory before processing.\n",
        "Infinite Sequences: Generators can represent infinite sequences, which is not feasible with lists or other data structures.\n",
        "\n",
        "Generators are a versatile tool in Python for handling large datasets and implementing efficient iterators. By creating values on-the-fly and utilizing lazy evaluation, they can significantly reduce memory usage and improve the performance of your code. This tutorial covered the basics of creating generators using both functions and expressions, advantages of using generators, working with infinite sequences, passing values, exception handling, and provided practical examples to showcase their utility.\n"
      ],
      "metadata": {
        "id": "j_paOs_cL60u"
      }
    },
    {
      "cell_type": "markdown",
      "source": [
        "**WHAT ARE THE ADVANTAGES OF USING GENERATORS**\n",
        "\n",
        "There are several advantages to using generators over regular loops. Here are a few of the most important ones:\n",
        "\n",
        "Memory Efficiency: One of the biggest advantages of generators is that they are memory efficient. Since a generator yields its values one by one, it does not need to store all of the values in memory at once. This can be especially useful when working with large data sets, as it reduces the risk of running out of memory.\n",
        "Readability: Generators can make your code easier to read and understand. By breaking up the iteration process into smaller chunks, you can write code that is more concise and easier to follow.\n",
        "Speed: Generators can also be faster than regular loops, especially when working with large data sets. This is because they avoid the overhead of creating a list or other data structure to store the results."
      ],
      "metadata": {
        "id": "NErRLeWYNYxk"
      }
    },
    {
      "cell_type": "markdown",
      "source": [
        "**WHAT IS A LAMBDA FUNCTION IN PYTHON AND WHEN IT IS TYPICALLY USED?**\n",
        "\n",
        "Lambda Function, also referred to as ‘Anonymous function’ is same as a regular python function but can be defined without a name. While normal functions are defined using the def keyword, anonymous functions are defined using the lambda keyword. However,they are restricted to single line of expression. They can take in mutliple parameters as in regular functions.\n",
        "The syntax for lambda function is given by : lambda arguments: expression there can be any number of arguments but can contain only a single expression. There is no return statement which is usually present in the def function syntax. The function will simply return the expression value even when there is no return statement.\n",
        "\n",
        "1.Lambda functions reduce the number of lines of code when compared to normal python function defined using def keyword. But this is not exactly true because, even functions defined with def can be defined in one single line. But generally, def functions are written in more than 1 line.\n",
        "2.They are generally used when a function is needed temporarily for a short period of time, often to be used inside another function such as filter, map and reduce.\n",
        "3.Using lambda function, you can define a function and call it immediately at the end of definition. This can’t be done with def functions.\n",
        "\n"
      ],
      "metadata": {
        "id": "ORbSiwZEPL9i"
      }
    },
    {
      "cell_type": "code",
      "source": [
        "format_numeric = lambda num: f\"{num:e}\" if isinstance(num, int) else f\"{num:,.2f}\"\n",
        "\n",
        "print(\"Int formatting:\", format_numeric(1000000))\n",
        "print(\"float formatting:\", format_numeric(999999.789541235))\n"
      ],
      "metadata": {
        "colab": {
          "base_uri": "https://localhost:8080/"
        },
        "id": "ME7YBwbqRUAp",
        "outputId": "f31300c6-36c2-45e8-a82e-612ff1722e52"
      },
      "execution_count": null,
      "outputs": [
        {
          "output_type": "stream",
          "name": "stdout",
          "text": [
            "Int formatting: 1.000000e+06\n",
            "float formatting: 999,999.79\n"
          ]
        }
      ]
    },
    {
      "cell_type": "code",
      "source": [
        "is_even_list = [lambda arg=x: arg * 10 for x in range(1, 5)]\n",
        "for item in is_even_list:\n",
        "    print(item())\n"
      ],
      "metadata": {
        "colab": {
          "base_uri": "https://localhost:8080/"
        },
        "id": "EDJDgLsCRW7E",
        "outputId": "1ab23c13-1edc-4f86-8975-b34183ecb47e"
      },
      "execution_count": null,
      "outputs": [
        {
          "output_type": "stream",
          "name": "stdout",
          "text": [
            "10\n",
            "20\n",
            "30\n",
            "40\n"
          ]
        }
      ]
    },
    {
      "cell_type": "code",
      "source": [
        "Max = lambda a, b : a if(a > b) else b\n",
        "print(Max(1, 2))\n"
      ],
      "metadata": {
        "colab": {
          "base_uri": "https://localhost:8080/"
        },
        "id": "RvzC_mZoReWB",
        "outputId": "61cbe8ca-3582-429e-f64b-b606431f4fd4"
      },
      "execution_count": null,
      "outputs": [
        {
          "output_type": "stream",
          "name": "stdout",
          "text": [
            "2\n"
          ]
        }
      ]
    },
    {
      "cell_type": "code",
      "source": [
        "List = [[2,3,4],[1, 4, 16, 64],[3, 6, 9, 12]]\n",
        "\n",
        "sortList = lambda x: (sorted(i) for i in x)\n",
        "secondLargest = lambda x, f : [y[len(y)-2] for y in f(x)]\n",
        "res = secondLargest(List, sortList)\n",
        "\n",
        "print(res)\n"
      ],
      "metadata": {
        "colab": {
          "base_uri": "https://localhost:8080/"
        },
        "id": "oooQZvnGRmuq",
        "outputId": "478d9ee8-d512-489c-d601-bc02a03228c6"
      },
      "execution_count": null,
      "outputs": [
        {
          "output_type": "stream",
          "name": "stdout",
          "text": [
            "[3, 16, 9]\n"
          ]
        }
      ]
    },
    {
      "cell_type": "markdown",
      "source": [
        "**EXPLAIN THE PURPOSE AND USAGE OF THE 'MAP()' FUNCTION IN PYTHON**\n",
        "\n",
        "Map executes a specified function for each of itere of an iterable.Syntax used fun, iterables."
      ],
      "metadata": {
        "id": "EJrkaf7GRzs9"
      }
    },
    {
      "cell_type": "code",
      "source": [
        "l = [1,2,3,4,5]\n",
        "def square (i):\n",
        "  sq = []\n",
        "  for i in l:\n",
        "    sq.append(i**2)\n",
        "    return sq\n",
        "    square (1)"
      ],
      "metadata": {
        "id": "qTOrt-_NUU09"
      },
      "execution_count": null,
      "outputs": []
    },
    {
      "cell_type": "code",
      "source": [
        "def sq (x):\n",
        "  return x**2\n",
        "  map(sq,l)\n",
        "\n",
        "\n"
      ],
      "metadata": {
        "id": "ijehXAe1UyHp"
      },
      "execution_count": null,
      "outputs": []
    },
    {
      "cell_type": "code",
      "source": [
        "# Double all numbers using map and lambda\n",
        "\n",
        "numbers = (1, 2, 3, 4)\n",
        "result = map(lambda x: x + x, numbers)\n",
        "print(list(result))\n"
      ],
      "metadata": {
        "colab": {
          "base_uri": "https://localhost:8080/"
        },
        "id": "AfTcOGX8VlzI",
        "outputId": "4de22f85-5d20-462d-ec24-4c1426826c35"
      },
      "execution_count": null,
      "outputs": [
        {
          "output_type": "stream",
          "name": "stdout",
          "text": [
            "[2, 4, 6, 8]\n"
          ]
        }
      ]
    },
    {
      "cell_type": "markdown",
      "source": [
        "**WHAT IS THE DIFFERENCE BETWEEN MAP(),REDUCE() AND FILTER()FUNCTIONS IN PYTHON.**\n",
        "The map () function returns a map object(which is an iterator) of the results after applying the given function to each item of a given iterable (list, tuple, etc.).\n",
        "\n",
        "Syntax: map(fun, iter)\n",
        "\n",
        "Parameters:\n",
        "\n",
        "fun: It is a function to which map passes each element of given iterable.\n",
        "iter: iterable object to be mapped.\n",
        "Example: In this example, Python program showcases the usage of the map function to double each number in a given list by applying the double function to each element, and then printing the result as a list.\n"
      ],
      "metadata": {
        "id": "kbe0r_JqVyUq"
      }
    },
    {
      "cell_type": "code",
      "source": [
        "# Function to return double of n\n",
        "def double(n):\n",
        "    return n * 2\n",
        "\n",
        "# Using map to double all numbers\n",
        "numbers = [5, 6, 7, 8]\n",
        "result = map(double, numbers)\n",
        "print(list(result))\n"
      ],
      "metadata": {
        "colab": {
          "base_uri": "https://localhost:8080/"
        },
        "id": "olbg1d-aWzmJ",
        "outputId": "2e80f49f-9320-4f2c-a3d4-893e6bcd0149"
      },
      "execution_count": null,
      "outputs": [
        {
          "output_type": "stream",
          "name": "stdout",
          "text": [
            "[10, 12, 14, 16]\n"
          ]
        }
      ]
    },
    {
      "cell_type": "markdown",
      "source": [
        "The reduce function is used to apply a particular function passed in its argument to all of the list elements mentioned in the sequence passed along.This function is defined in “functools” module.\n",
        "\n",
        "Syntax: reduce(func, iterable[, initial])\n",
        "\n",
        "Parameters:\n",
        "\n",
        "fun: It is a function to execuate on each element of the iterable objec\n",
        "iter: It is iterable to be reduced\n",
        "Example : In this example, we are using reduce() function from the functools module to compute the product of elements in a given list by continuously applying the lambda function that multiplies two numbers together, resulting in the final product."
      ],
      "metadata": {
        "id": "pWeuD7ZcW56O"
      }
    },
    {
      "cell_type": "code",
      "source": [
        "import functools\n",
        "\n",
        "# Define a list of numbers\n",
        "numbers = [1, 2, 3, 4]\n",
        "\n",
        "# Use reduce to compute the product of list elements\n",
        "product = functools.reduce(lambda x, y: x * y, numbers)\n",
        "print(\"Product of list elements:\", product)\n"
      ],
      "metadata": {
        "colab": {
          "base_uri": "https://localhost:8080/"
        },
        "id": "zq1Gghn_XM0C",
        "outputId": "0adfcdc4-a63a-46fe-a61f-a8c468c010f2"
      },
      "execution_count": null,
      "outputs": [
        {
          "output_type": "stream",
          "name": "stdout",
          "text": [
            "Product of list elements: 24\n"
          ]
        }
      ]
    },
    {
      "cell_type": "markdown",
      "source": [
        "The filter() method filters the given sequence with the help of a function that tests each element in the sequence to be true or not.\n",
        "\n",
        "Syntax: filter(function, sequence)\n",
        "\n",
        "Parameters:\n",
        "\n",
        "function: function that tests if each element of a sequence is true or not.\n",
        "sequence: sequence which needs to be filtered, it can be sets, lists, tuples, or containers of any iterators.\n",
        "Example : In this example, we defines a function is_even to check whether a number is even or not. Then, it applies the filter() function to a list of numbers to extract only the even numbers, resulting in a list containing only the even elements. Finally, it prints the list of even numbers."
      ],
      "metadata": {
        "id": "g_SsCISVXXGA"
      }
    },
    {
      "cell_type": "code",
      "source": [
        "# Define a function to check if a number is even\n",
        "def is_even(n):\n",
        "    return n % 2 == 0\n",
        "\n",
        "# Define a list of numbers\n",
        "numbers = [1, 2, 3, 4, 5, 6, 7, 8, 9, 10]\n",
        "\n",
        "# Use filter to filter out even numbers\n",
        "even_numbers = filter(is_even, numbers)\n",
        "print(\"Even numbers:\", list(even_numbers))\n"
      ],
      "metadata": {
        "colab": {
          "base_uri": "https://localhost:8080/"
        },
        "id": "Ucg0WvHYXhRJ",
        "outputId": "87514d14-5650-4459-a37a-ea9985cfc2f2"
      },
      "execution_count": null,
      "outputs": [
        {
          "output_type": "stream",
          "name": "stdout",
          "text": [
            "Even numbers: [2, 4, 6, 8, 10]\n"
          ]
        }
      ]
    },
    {
      "cell_type": "code",
      "source": [
        "# [alt.image] (https://drive.google.com/file/d/1vKcFvRgF5cyTHMsZp2v9BAaTsNOSpTUq/view?usp=drive_link)"
      ],
      "metadata": {
        "id": "aLh9ihYfhvnM"
      },
      "execution_count": null,
      "outputs": []
    },
    {
      "cell_type": "markdown",
      "source": [
        "***PRACTICAL QUESTIONS***"
      ],
      "metadata": {
        "id": "_qFwwqhuOPyV"
      }
    },
    {
      "cell_type": "markdown",
      "source": [
        "**1.WRITE A PYTHON FUNCTION THAT TAKES A LIST OF NUMBERS AS INPUT AND RETURNS THE SUM OF ALL EVEN NUMBERS IN LIST.**"
      ],
      "metadata": {
        "id": "Aputm06aOYhx"
      }
    },
    {
      "cell_type": "code",
      "source": [
        "def even_sum(numbers):\n",
        "  sum = 0\n",
        "  for i in numbers:\n",
        "    if i%2==0:\n",
        "      sum=sum+i\n",
        "      return sum\n",
        "even_sum([1,4,9,6,2,0])\n"
      ],
      "metadata": {
        "colab": {
          "base_uri": "https://localhost:8080/"
        },
        "id": "HC5tQ6WaQDMl",
        "outputId": "4b520e8b-0d15-4b56-8b3f-29400f935b46"
      },
      "execution_count": null,
      "outputs": [
        {
          "output_type": "execute_result",
          "data": {
            "text/plain": [
              "4"
            ]
          },
          "metadata": {},
          "execution_count": 5
        }
      ]
    },
    {
      "cell_type": "markdown",
      "source": [
        "**2.CREATE A PYTHON FUNCTION THAT ACCEPTS A STRING AND RETURNS THE REVERSE OF THAT STRING.**"
      ],
      "metadata": {
        "id": "IOsmFOJSRKyX"
      }
    },
    {
      "cell_type": "code",
      "source": [
        "def reverse_string(s):\n",
        "  return s[::-1]\n",
        "string1 = \"Data,Analytics\"\n",
        "reversed_string = string1[::-1]\n",
        "print(reversed_string)"
      ],
      "metadata": {
        "colab": {
          "base_uri": "https://localhost:8080/"
        },
        "id": "Tml13BBrRrE5",
        "outputId": "9526e355-38da-459d-ff29-dc83ceeba442"
      },
      "execution_count": null,
      "outputs": [
        {
          "output_type": "stream",
          "name": "stdout",
          "text": [
            "scitylanA,ataD\n"
          ]
        }
      ]
    },
    {
      "cell_type": "markdown",
      "source": [
        "**3.IMPLEMENT A PYTHON FUNCTION THAT TAKES A LIST OF INTEGERS AND RETURNS A NEW LIST CONTAINING THE SQUARES OF EACH NUMBER.**"
      ],
      "metadata": {
        "id": "ilMC3aeyS0WZ"
      }
    },
    {
      "cell_type": "code",
      "source": [
        "l = [5,6,7,8,9]\n",
        "def square (i):\n",
        "  sq = []\n",
        "  for i in l:\n",
        "    sq.append(i**2)\n",
        "  return sq\n",
        "square(l)"
      ],
      "metadata": {
        "colab": {
          "base_uri": "https://localhost:8080/"
        },
        "id": "tnpNICuOTRlP",
        "outputId": "86a7f20b-5ba2-452f-f041-7b49b567d28c"
      },
      "execution_count": null,
      "outputs": [
        {
          "output_type": "execute_result",
          "data": {
            "text/plain": [
              "[25, 36, 49, 64, 81]"
            ]
          },
          "metadata": {},
          "execution_count": 11
        }
      ]
    },
    {
      "cell_type": "markdown",
      "source": [
        "**4.WRITE A PYTHON FUNCTION THAT CHECKS IF A GIVEN NUMBER IS PRIME OR NOT FROM 1 TO 200.**"
      ],
      "metadata": {
        "id": "r0ntWnqKTxNm"
      }
    },
    {
      "cell_type": "code",
      "source": [
        "num = 10\n",
        "for i in range(2,num):\n",
        "  if num % i== 0:\n",
        "    print(\"not prime\")\n",
        "    break\n",
        "else:\n",
        "  print(\"prime number\")"
      ],
      "metadata": {
        "colab": {
          "base_uri": "https://localhost:8080/"
        },
        "id": "r2fer8RRUZXn",
        "outputId": "49a33424-1d6b-4cca-994f-2c7bf3be0422"
      },
      "execution_count": null,
      "outputs": [
        {
          "output_type": "stream",
          "name": "stdout",
          "text": [
            "not prime\n"
          ]
        }
      ]
    },
    {
      "cell_type": "code",
      "source": [
        "num = 17\n",
        "for i in range(2,num):\n",
        "  if num % i== 0:\n",
        "    print(\"not prime\")\n",
        "    break\n",
        "else:\n",
        "  print(\"prime number\")"
      ],
      "metadata": {
        "colab": {
          "base_uri": "https://localhost:8080/"
        },
        "id": "KZl0zUQnU0K5",
        "outputId": "6eb4c540-7eb7-4289-b841-9489c262e467"
      },
      "execution_count": null,
      "outputs": [
        {
          "output_type": "stream",
          "name": "stdout",
          "text": [
            "prime number\n"
          ]
        }
      ]
    },
    {
      "cell_type": "markdown",
      "source": [
        "**5.CREATE AN ITERATOR CLASS IN PYTHON THAT GENERATES THE FIBONACCI SEQUENCE UPTO A SPECIFIED NUMBER OF TERMS.**"
      ],
      "metadata": {
        "id": "CU5h_tQHVGFs"
      }
    },
    {
      "cell_type": "code",
      "source": [
        "#case1 USING LIST TO STORE ELEMENTS\n",
        "def fibonacci_sequence(n):\n",
        "    l = [0, 1]\n",
        "    for i in range(2,n):\n",
        "        l.append(l[i-1]+l[i-2])\n",
        "    return l\n",
        "\n",
        "#MAIN FUNCTION\n",
        "if __name__ == \"__darshan__\":\n",
        "    n = 10\n",
        "    print(fibonacci_sequence(n))\n",
        "#dis[laying the function]\n",
        "print(\"fibonacci series: \", \"*fibo\")\n"
      ],
      "metadata": {
        "colab": {
          "base_uri": "https://localhost:8080/"
        },
        "id": "gOYj6_E3Vt-1",
        "outputId": "2e52caa9-344c-4fe1-8038-9e96251966ad"
      },
      "execution_count": null,
      "outputs": [
        {
          "output_type": "stream",
          "name": "stdout",
          "text": [
            "fibonacci series:  *fibo\n"
          ]
        }
      ]
    },
    {
      "cell_type": "markdown",
      "source": [
        "**6.WRITE A GENERATOR FUNCTION IN PYTHON THAT YIELDS THE POWER OF 2 UP TO A GIVEN EXPONENT.**"
      ],
      "metadata": {
        "id": "QXYBhztGZpqg"
      }
    },
    {
      "cell_type": "code",
      "source": [
        "def powers_of_two(max_exponent):\n",
        "    for exponent in range(max_exponent + 1):\n",
        "        yield 2 ** exponent\n",
        "max_exponent = 6\n",
        "for power in powers_of_two(max_exponent):\n",
        "    print(power)\n",
        "\n",
        "for power in powers_of_two(max_exponent):\n",
        "    print(power)"
      ],
      "metadata": {
        "id": "W7GQPMKkaFpd",
        "colab": {
          "base_uri": "https://localhost:8080/"
        },
        "outputId": "590628bb-8a2e-421c-a3ad-46b6cf7dc689"
      },
      "execution_count": null,
      "outputs": [
        {
          "output_type": "stream",
          "name": "stdout",
          "text": [
            "1\n",
            "2\n",
            "4\n",
            "8\n",
            "16\n",
            "32\n",
            "64\n",
            "1\n",
            "2\n",
            "4\n",
            "8\n",
            "16\n",
            "32\n",
            "64\n"
          ]
        }
      ]
    },
    {
      "cell_type": "markdown",
      "source": [
        "**7.IMPLEMENT A GENERATOR FUNCTION THAT READS A FILE LINE BY LINE AND YIELDS EACH LINE AS A STRING.**"
      ],
      "metadata": {
        "id": "TzDfDBO6vTps"
      }
    },
    {
      "cell_type": "code",
      "source": [
        "def square_number(n):\n",
        "    for i in range(n):\n",
        "        yield i**2\n",
        "\n",
        "square_number(10)"
      ],
      "metadata": {
        "colab": {
          "base_uri": "https://localhost:8080/"
        },
        "id": "a0Y98tHu0guo",
        "outputId": "a6fc178d-6963-467f-d07b-3976de8af897"
      },
      "execution_count": null,
      "outputs": [
        {
          "output_type": "execute_result",
          "data": {
            "text/plain": [
              "<generator object square_number at 0x78fb8e489d90>"
            ]
          },
          "metadata": {},
          "execution_count": 31
        }
      ]
    },
    {
      "cell_type": "code",
      "source": [
        "gen = square_number(10)\n",
        "gen"
      ],
      "metadata": {
        "colab": {
          "base_uri": "https://localhost:8080/"
        },
        "id": "Y0pT0LGE02yF",
        "outputId": "d26a75bb-347d-4f4e-ebae-2e788bcc76a8"
      },
      "execution_count": null,
      "outputs": [
        {
          "output_type": "execute_result",
          "data": {
            "text/plain": [
              "<generator object square_number at 0x78fb8e489ee0>"
            ]
          },
          "metadata": {},
          "execution_count": 33
        }
      ]
    },
    {
      "cell_type": "code",
      "source": [
        "next(gen)"
      ],
      "metadata": {
        "colab": {
          "base_uri": "https://localhost:8080/"
        },
        "id": "Sr346_Ft1CTn",
        "outputId": "dd43e26d-e160-4fe3-b677-e15c673c7f8f"
      },
      "execution_count": null,
      "outputs": [
        {
          "output_type": "execute_result",
          "data": {
            "text/plain": [
              "0"
            ]
          },
          "metadata": {},
          "execution_count": 34
        }
      ]
    },
    {
      "cell_type": "code",
      "source": [
        "next(gen)"
      ],
      "metadata": {
        "colab": {
          "base_uri": "https://localhost:8080/"
        },
        "id": "QdCmHVJD1H2m",
        "outputId": "b4078659-2907-44a4-c2e4-906afa1b9ee1"
      },
      "execution_count": null,
      "outputs": [
        {
          "output_type": "execute_result",
          "data": {
            "text/plain": [
              "1"
            ]
          },
          "metadata": {},
          "execution_count": 35
        }
      ]
    },
    {
      "cell_type": "code",
      "source": [
        "next(gen)"
      ],
      "metadata": {
        "colab": {
          "base_uri": "https://localhost:8080/"
        },
        "id": "712zEr2E1N_a",
        "outputId": "aec7d484-861c-4770-dfa5-310bc053394f"
      },
      "execution_count": null,
      "outputs": [
        {
          "output_type": "execute_result",
          "data": {
            "text/plain": [
              "4"
            ]
          },
          "metadata": {},
          "execution_count": 36
        }
      ]
    },
    {
      "cell_type": "markdown",
      "source": [
        "**USE A LAMBDA FUNCTION IN PYTHON TO SORT A LIST A LIST OF TUPLES BASED ON THE SECOND ELEMENT OF EACH CONCEPT**"
      ],
      "metadata": {
        "id": "HxuCOxmj1V3r"
      }
    },
    {
      "cell_type": "code",
      "source": [
        "tuples_list = [(1,5), (2,3), (3,2), (4,1)]\n",
        "\n",
        "sorted_list = sorted(tuples_list, key=lambda x: x[1])\n",
        "print(sorted_list)"
      ],
      "metadata": {
        "colab": {
          "base_uri": "https://localhost:8080/"
        },
        "id": "F3qyNKlo1vmV",
        "outputId": "8024a46f-9648-48fb-85cd-2427b2e6a5c2"
      },
      "execution_count": null,
      "outputs": [
        {
          "output_type": "stream",
          "name": "stdout",
          "text": [
            "[(4, 1), (3, 2), (2, 3), (1, 5)]\n"
          ]
        }
      ]
    },
    {
      "cell_type": "markdown",
      "source": [
        "**9.WRITE A PYTHON PROGRAM THAT USE MAP() TO CONVERT A LIST OF TEMPERATURES FROM CELCIUS TO FARHENHEIT.**"
      ],
      "metadata": {
        "id": "OTFIEvXY2IfA"
      }
    },
    {
      "cell_type": "code",
      "source": [
        "celsius_temps = [0,10,20,40,100]\n",
        "\n",
        "def celsius_to_farhenheit(celsius):\n",
        "  \"\"\"Convert celsius to farhenheit\"\"\"\n",
        "  return (celsius * 9/5) + 32\n",
        "farhenheit_temps = list(map(celsius_to_farhenheit, celsius_temps))\n",
        "\n",
        "print(farhenheit_temps)\n"
      ],
      "metadata": {
        "colab": {
          "base_uri": "https://localhost:8080/"
        },
        "id": "c5wQRNAi2mpW",
        "outputId": "34186518-2e14-4bc0-8c2c-210c3bb44268"
      },
      "execution_count": null,
      "outputs": [
        {
          "output_type": "stream",
          "name": "stdout",
          "text": [
            "[32.0, 50.0, 68.0, 104.0, 212.0]\n"
          ]
        }
      ]
    },
    {
      "cell_type": "markdown",
      "source": [
        "**10.CREATE A PYTHON PROGRAM THAT USE FILTERS() TO REMOVE VOWELS FROM A GIVEN STRING.**"
      ],
      "metadata": {
        "id": "B6gHIVww6GFL"
      }
    },
    {
      "cell_type": "code",
      "source": [
        "def is_not_vowel(char):\n",
        "  \"\"\"Return True if the character is not a vowel, False otherwise\"\"\"\n",
        "  return char.lower() not in 'aeiou'\n",
        "\n",
        "#Given string\n",
        "input_string = \"Skills, Data!\"\n",
        "\n",
        "#Use filter() to remove vowels\n",
        "filtered_chars = filter(is_not_vowel,input_string)\n",
        "\n",
        "#convert the filter object to a string and print it\n",
        "result_string = ''.join(filtered_chars)\n",
        "print(result_string)"
      ],
      "metadata": {
        "colab": {
          "base_uri": "https://localhost:8080/"
        },
        "id": "VgDttQeG6UqJ",
        "outputId": "0e5135f1-911b-49ce-aa6b-14e1d9430faa"
      },
      "execution_count": null,
      "outputs": [
        {
          "output_type": "stream",
          "name": "stdout",
          "text": [
            "Sklls, Dt!\n"
          ]
        }
      ]
    },
    {
      "cell_type": "markdown",
      "source": [
        "**11.Imagine an accounting routine used in a book shop. It works on a list with sublists, which look like this:   Order Number\tBook Title and Author\tQuantity\tPrice per Item 34587\tLearning Python, Mark Lutz\t4\t40.95 98762\tProgramming Python, Mark Lutz\t5\t56.80 7**"
      ],
      "metadata": {
        "id": "kF9V0W64YVr1"
      }
    },
    {
      "cell_type": "code",
      "source": [
        "orders = [\n",
        "    [34587, \"Learning Python, Mark Lutz\", 4, 40.95],\n",
        "    [98762, \"Programming Python, Mark Lutz\", 5, 56.80]\n",
        "]\n",
        "\n",
        "# Calculate total cost for each order\n",
        "total_costs = list(map(lambda order: order[2] * order[3], orders))\n",
        "\n",
        "print(total_costs)\n",
        "\n",
        "# Create a detailed summary with order number and total cost\n",
        "summary = list(map(lambda order: {\n",
        "    'Order Number': order[0],\n",
        "    'Total Cost': order[2] * order[3]\n",
        "}, orders))\n",
        "\n",
        "print(summary)\n",
        "\n",
        "[\n",
        "    {'Order Number': 34587, 'Total Cost': 163.8},\n",
        "    {'Order Number': 98762, 'Total Cost': 284.0}\n",
        "]\n",
        "\n",
        "\n"
      ],
      "metadata": {
        "colab": {
          "base_uri": "https://localhost:8080/"
        },
        "id": "iaQ3B8iyYXvh",
        "outputId": "3ea63d92-f1ca-49e5-b7e3-3a8f5af5d51f"
      },
      "execution_count": null,
      "outputs": [
        {
          "output_type": "stream",
          "name": "stdout",
          "text": [
            "[163.8, 284.0]\n",
            "[{'Order Number': 34587, 'Total Cost': 163.8}, {'Order Number': 98762, 'Total Cost': 284.0}]\n"
          ]
        },
        {
          "output_type": "execute_result",
          "data": {
            "text/plain": [
              "[{'Order Number': 34587, 'Total Cost': 163.8},\n",
              " {'Order Number': 98762, 'Total Cost': 284.0}]"
            ]
          },
          "metadata": {},
          "execution_count": 6
        }
      ]
    },
    {
      "cell_type": "markdown",
      "source": [
        "**Write a Python program, which returns a list with 2-tuples. Each tuple consists of the order number and the\n",
        "product of the price per item and the quantity. The product should be increased by 10,- € if the value of the\n",
        "order is smaller than 100,00 €.**"
      ],
      "metadata": {
        "id": "dwhY1_x8XUY6"
      }
    },
    {
      "cell_type": "code",
      "source": [
        "# Python program to sort a list of\n",
        "# tuples by the second Item using sorted()\n",
        "\n",
        "# Function to sort the list by second item of tuple\n",
        "def Sort_Tuple(tup):\n",
        "\n",
        "\t# reverse = None (Sorts in Ascending order)\n",
        "\t# key is set to sort using second element of\n",
        "\t# sublist lambda has been used\n",
        "\treturn(sorted(tup, key = lambda x: x[1]))\n",
        "\n",
        "# Driver Code\n",
        "tup = [('rishav', 10), ('akash', 5), ('ram', 20), ('gaurav', 15)]\n",
        "\n",
        "# printing the sorted list of tuples\n",
        "print(Sort_Tuple(tup))\n"
      ],
      "metadata": {
        "colab": {
          "base_uri": "https://localhost:8080/"
        },
        "id": "JLibMLW7Wh9y",
        "outputId": "6309c5ec-fc7f-4c32-c499-fe5d0f229011"
      },
      "execution_count": null,
      "outputs": [
        {
          "output_type": "stream",
          "name": "stdout",
          "text": [
            "[('akash', 5), ('rishav', 10), ('gaurav', 15), ('ram', 20)]\n"
          ]
        }
      ]
    },
    {
      "cell_type": "markdown",
      "source": [
        "**Write a Python program using lambda and map**"
      ],
      "metadata": {
        "id": "lk5aG5BRXO4A"
      }
    },
    {
      "cell_type": "code",
      "source": [
        "li = [5, 7, 22, 97, 54, 62, 77, 23, 73, 61]\n",
        "\n",
        "final_list = list(map(lambda x: x*2, li))\n",
        "print(final_list)\n"
      ],
      "metadata": {
        "colab": {
          "base_uri": "https://localhost:8080/"
        },
        "id": "tLFDemIvXB8F",
        "outputId": "93d6969e-ae01-4744-9f70-3fda0bf4dce0"
      },
      "execution_count": null,
      "outputs": [
        {
          "output_type": "stream",
          "name": "stdout",
          "text": [
            "[10, 14, 44, 194, 108, 124, 154, 46, 146, 122]\n"
          ]
        }
      ]
    }
  ]
}